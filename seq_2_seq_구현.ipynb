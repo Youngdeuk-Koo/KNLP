{
  "cells": [
    {
      "cell_type": "markdown",
      "metadata": {
        "id": "view-in-github",
        "colab_type": "text"
      },
      "source": [
        "<a href=\"https://colab.research.google.com/github/Youngdeuk-Koo/KNLP/blob/main/seq_2_seq_%EA%B5%AC%ED%98%84.ipynb\" target=\"_parent\"><img src=\"https://colab.research.google.com/assets/colab-badge.svg\" alt=\"Open In Colab\"/></a>"
      ]
    },
    {
      "cell_type": "code",
      "execution_count": null,
      "metadata": {
        "id": "0nTAYx5aSZc9"
      },
      "outputs": [],
      "source": [
        "!pip install konlpy\n",
        "!git clone https://github.com/SOMJANG/Mecab-ko-for-Google-Colab.git\n",
        "%cd Mecab-ko-for-Google-Colab\n",
        "!bash install_mecab-ko_on_colab190912.sh\n",
        "%cd ../\n",
        "\n",
        "!sudo apt-get install -y fonts-nanum\n",
        "!sudo fc-cache -fv\n",
        "!rm ~/.cache/matplotlib -rf"
      ]
    },
    {
      "cell_type": "markdown",
      "source": [
        "#0.프로젝트 진행중 생겼던 문제점과 해결법\n",
        "\n",
        "###1.크롤링 후 압축푸는거만 반나절 걸림(...)\n",
        "    1.1 url을 제대로 확인 하지 않아 빈 압축파일을 생성하고 있었음\n",
        "    1.2 url 확인 후 해결 \n",
        " \n",
        "###2.어떤 문자를 제거 하고 어떤 문자는 살려야 하는가?\n",
        "\n",
        "    2.1 ('&#8212;, ¡°I, ¡°, ¡± (CNN))등 불용어 제거\n",
        "\n",
        "    2.2 [. , ' \"] 만 남겨 봤으나 결과 좋지 않음 (Loss 4.0 ~ 5.0)\n",
        "\n",
        "    2.2 문자와 숫자만 남겨 봤으나 조금 좋아 졌을뿐 결과는 큰 의미 없음 (Loss 1.0 ~ 3.0)\n",
        "\n",
        "    2.4 한글과 영어 외에 모든 문자 삭제시 가장 좋은 결과 (Loss 0.01 ~ 0.03)\n",
        "\n",
        "###3.VOCAB_SIZE로 인한 GPU OOM에러\n",
        "    \n",
        "    3.1 문장이나 토큰의 길이와 상관없이 VOCAB_SIZE가 14,000이 넘으면 에러\n",
        "\n",
        "    3.2 적당한 VOCAB_SIZE를 위한 문장길이들만 추출\n",
        "\n",
        "    3.3 패딩 격차를 줄이기 위해 10~80개의 문장들만 추출\n",
        "\n",
        "    3.4 VOCAB_SIZE 13,000으로 시작\n",
        "\n",
        "###4.과적합과 로스 폭주를 막기 위한 적당한 에포크 찾기\n",
        "\n",
        "    4.1 에포크 10 (택도 없음)\n",
        "\n",
        "    4.2 에포크 20 (부족함)\n",
        "\n",
        "    4.3 에포크 40 (로스율 0.007 과적합이라 생각됨) or 로스율 폭주(Loss가 0.01에서 5.1로 폭주)\n",
        "\n",
        "    4.4 에포크 35 로스율 0.02때로 적당하다 판단\n",
        "\n",
        "###5.새로 입력되는 문장 패딩의 오류\n",
        "\n",
        "    5.1 지속되는 차원 불일치 오류(어디서 에러가 생기는지 확인이 쉽지 않았음)\n",
        "\n",
        "    5.2 입력 문장의 패딩쪽에서 에러가 생기는걸 발견\n",
        "\n",
        "    5.3 입력문장의 패딩이 [27, 80, 55, 0 .... ,0]이 아닌 [[27, 0, 0, ... ,0], [80, 0, 0, ... ,0], [55, 0, 0, ... ,0]]로 차원 오류가 생겼음\n",
        "\n",
        "    5.4 입력되는 토큰화의 리스트 플래튼 후 재정립\n",
        "\n",
        "    5.5 문제 해결\n",
        "\n",
        "\n",
        "\n"
      ],
      "metadata": {
        "id": "qks_e46SmxPl"
      }
    },
    {
      "cell_type": "markdown",
      "metadata": {
        "id": "-WwJHh3MSccc"
      },
      "source": [
        "#1.데이터 크롤링후 압축해제"
      ]
    },
    {
      "cell_type": "code",
      "execution_count": null,
      "metadata": {
        "id": "Nrw5arQjSxLp"
      },
      "outputs": [],
      "source": [
        "import tensorflow as tf\n",
        "import numpy as np\n",
        "import os\n",
        "import tarfile\n",
        "import urllib.request\n",
        "\n",
        "import matplotlib.pyplot as plt\n",
        "plt.rc('font', family='NanumBarunGothic') \n",
        "\n",
        "download_root = 'https://github.com/jungyeul/korean-parallel-corpora/raw/master/korean-english-news-v1/'\n",
        "train_url = download_root + 'korean-english-park.train.tar.gz'\n",
        "test_url = download_root + 'korean-english-park.test.tar.gz'\n",
        "\n",
        "_PATH = os.path.join('kor_eng_LangFile') \n",
        "\n",
        "def fetch_spam_data(spam_url=test_url, ham_url=train_url, spam_path=_PATH):\n",
        "    if not os.path.isdir(spam_path):\n",
        "        os.makedirs(spam_path)\n",
        "    for filename, url in ((\"Korean-english-park.train.tar.gz\", ham_url), (\"Korean-english-park.test.tar.gz\", spam_url)):\n",
        "        path = os.path.join(spam_path, filename)\n",
        "        if not os.path.isfile(path):\n",
        "            urllib.request.urlretrieve(url, path)\n",
        "            \n",
        "        # 압축해제\n",
        "        tar_gz_file = tarfile.open(path)\n",
        "        tar_gz_file.extractall(path=_PATH)\n",
        "        tar_gz_file.close()\n",
        "\n",
        "fetch_spam_data()"
      ]
    },
    {
      "cell_type": "markdown",
      "metadata": {
        "id": "7rmRikRK0fhw"
      },
      "source": [
        "#2.데이터 불러오기"
      ]
    },
    {
      "cell_type": "code",
      "execution_count": null,
      "metadata": {
        "colab": {
          "base_uri": "https://localhost:8080/"
        },
        "id": "pbiRzWwEV9zv",
        "outputId": "ce969f29-89df-412e-e5b9-4cfca22a1efe"
      },
      "outputs": [
        {
          "output_type": "stream",
          "name": "stdout",
          "text": [
            "한글 길이 : 94123\n",
            "영어 길이 : 94123\n"
          ]
        }
      ],
      "source": [
        "with open('/content/kor_eng_LangFile/korean-english-park.train.ko', \"r\") as f:\n",
        "    kor = f.read().splitlines()\n",
        "\n",
        "with open('/content/kor_eng_LangFile/korean-english-park.train.en', \"r\") as f:\n",
        "    eng = f.read().splitlines()\n",
        "\n",
        "print('한글 길이 :', len(kor))\n",
        "print('영어 길이 :', len(eng))"
      ]
    },
    {
      "cell_type": "markdown",
      "metadata": {
        "id": "oGGqAinS0jfW"
      },
      "source": [
        "#3.중복제거"
      ]
    },
    {
      "cell_type": "code",
      "execution_count": null,
      "metadata": {
        "colab": {
          "base_uri": "https://localhost:8080/"
        },
        "id": "td2AvXt1BNxT",
        "outputId": "b97b036d-827d-4d30-f0cc-36a128148ad9"
      },
      "outputs": [
        {
          "output_type": "stream",
          "name": "stdout",
          "text": [
            "중복 제거후 문장 길이 : 78968\n",
            "\n",
            "문장 일부 확인 :\n",
            "[('카수리 외무장관은 CNN과의 인터뷰에서 “파키스탄과 아프가니스탄 국경 인근 부족 거주 산악지역에 8만5000명의 병력을 이미 배치했다”고 말했다.', 'Khurshid Kasuri further told CNN\\'s \"Late Edition with Wolf Blitzer\" that 85,000 Pakistani troops were already in the Federally Administered Tribal Areas, a mountainous and notoriously dangerous region at the porous border between Pakistan and Afghanistan.'), ('TAIPEI, Taiwan (CNN) / 이수지(JOINS)', 'Protests mark China envoy`s Taiwan trip')]\n"
          ]
        }
      ],
      "source": [
        "pairs = [w for w in zip(kor, eng)]\n",
        "pair = list(set(pairs))\n",
        "print('중복 제거후 문장 길이 :', len(pair))\n",
        "print()\n",
        "print('문장 일부 확인 :')\n",
        "print(pair[:2])"
      ]
    },
    {
      "cell_type": "markdown",
      "metadata": {
        "id": "A-d7LV200rAz"
      },
      "source": [
        "#4.문장 길이 확인"
      ]
    },
    {
      "cell_type": "code",
      "execution_count": null,
      "metadata": {
        "colab": {
          "base_uri": "https://localhost:8080/"
        },
        "id": "mAsxre6qAUcc",
        "outputId": "cb4b8b79-8e35-45fd-ea28-325f7145bf14"
      },
      "outputs": [
        {
          "output_type": "stream",
          "name": "stdout",
          "text": [
            "문장의 최단 길이 : 1\n",
            "문장의 최장 길이 : 377\n",
            "문장의 최단 길이 : 1\n",
            "문장의 최장 길이 : 605\n"
          ]
        }
      ],
      "source": [
        "k_min_len = 999\n",
        "k_max_len = 0\n",
        "\n",
        "e_min_len = 999\n",
        "e_max_len = 0\n",
        "\n",
        "k_sum_len = 0\n",
        "e_sum_len = 0\n",
        "\n",
        "for k_sen, e_sen in pair:\n",
        "    k_length = len(k_sen)\n",
        "    e_length = len(e_sen)\n",
        "    if k_min_len > k_length : k_min_len = k_length\n",
        "    if e_min_len > e_length : e_min_len = e_length\n",
        "\n",
        "    if k_max_len < k_length : k_max_len = k_length\n",
        "    if e_max_len < e_length : e_max_len = e_length\n",
        "    k_sum_len += k_length\n",
        "    e_sum_len += e_length\n",
        "\n",
        "\n",
        "print(\"문장의 최단 길이 :\", k_min_len)\n",
        "print(\"문장의 최장 길이 :\", k_max_len)\n",
        "\n",
        "print(\"문장의 최단 길이 :\", e_min_len)\n",
        "print(\"문장의 최장 길이 :\", e_max_len)"
      ]
    },
    {
      "cell_type": "markdown",
      "metadata": {
        "id": "RkCVyj6-0yxd"
      },
      "source": [
        "#5.문장 길이 분포 확인"
      ]
    },
    {
      "cell_type": "code",
      "execution_count": null,
      "metadata": {
        "colab": {
          "base_uri": "https://localhost:8080/",
          "height": 472
        },
        "id": "sJMko9ozHQ1A",
        "outputId": "b3875127-6b5d-425c-b998-cd5826925a3c"
      },
      "outputs": [
        {
          "output_type": "stream",
          "name": "stderr",
          "text": [
            "findfont: Font family ['NanumBarunGothic'] not found. Falling back to DejaVu Sans.\n",
            "findfont: Font family ['NanumBarunGothic'] not found. Falling back to DejaVu Sans.\n"
          ]
        },
        {
          "output_type": "display_data",
          "data": {
            "image/png": "[encoded data removed]",
            "text/plain": [
              "<Figure size 1296x216 with 1 Axes>"
            ]
          },
          "metadata": {
            "needs_background": "light"
          }
        },
        {
          "output_type": "display_data",
          "data": {
            "image/png": "[encoded data removed]",
            "text/plain": [
              "<Figure size 1296x216 with 1 Axes>"
            ]
          },
          "metadata": {
            "needs_background": "light"
          }
        }
      ],
      "source": [
        "import matplotlib.pyplot as plt\n",
        "\n",
        "kor_length = np.zeros((k_max_len), dtype=np.uint)\n",
        "eng_length = np.zeros((e_max_len), dtype=np.uint)\n",
        "\n",
        "for k_sen, e_sen in pair: #중복이 제거된 코퍼스\n",
        "    kor_length[len(k_sen)-1] += 1\n",
        "    eng_length[len(e_sen)-1] += 1\n",
        "\n",
        "\n",
        "plt.figure(figsize=[18, 3])\n",
        "plt.subplot(1, 2, 1)\n",
        "plt.title(\"Korea Sentence Length Distribution\")\n",
        "plt.bar(range(k_max_len), kor_length, width=1.0)\n",
        "plt.grid()\n",
        "\n",
        "plt.figure(figsize=[18, 3])\n",
        "plt.subplot(1, 2, 2)\n",
        "plt.bar(range(e_max_len), eng_length, width=1.0)\n",
        "plt.title(\"English Sentence Length Distribution\")\n",
        "plt.grid()\n",
        "plt.show()"
      ]
    },
    {
      "cell_type": "markdown",
      "metadata": {
        "id": "9Yjg2PoQ08p-"
      },
      "source": [
        "#6.토크나이징 및 문장 전처리(진행중)"
      ]
    },
    {
      "cell_type": "code",
      "execution_count": null,
      "metadata": {
        "id": "e92Z0xjBVCbo"
      },
      "outputs": [],
      "source": [
        "from konlpy.tag import Mecab\n",
        "import re\n",
        "\n",
        "def preprocess_sentence(sentence, token=False):\n",
        "    if token == False:      \n",
        "        sentence = sentence.replace('&#8212;', '')\n",
        "        sentence = sentence.replace('¡°I', '')\n",
        "        sentence = sentence.replace('¡°', '')\n",
        "        sentence = sentence.replace('¡±', '')\n",
        "        sentence = sentence.replace('¡¯', '')\n",
        "        sentence = re.sub('[-=+,#/\\?:;^$.@*\\’\"“”※~&%ㆍ_!』\\\\‘|\\(\\)\\[\\]\\<\\>`\\'…》.]','', sentence)\n",
        "        sentence = re.sub(r\"[^가-힣 ]\", \"\", sentence)\n",
        "\n",
        "        return sentence\n",
        "    \n",
        "    if token == True:\n",
        "        sentence = sentence.lower().strip()\n",
        "        sentence = sentence.replace('&#8212;', '')\n",
        "        sentence = sentence.replace('¡°I', '')\n",
        "        sentence = sentence.replace('¡°', '')\n",
        "        sentence = sentence.replace('¡±', '')\n",
        "        sentence = sentence.replace('¡¯', '')      \n",
        "        sentence = re.sub('[-=+,#/\\?:;^$.@*\\’\"“”※~&%ㆍ_!』\\\\‘|\\(\\)\\[\\]\\<\\>`\\'…》.]','', sentence)\n",
        "        sentence = re.sub(r\"[^a-z ]\", \"\", sentence)\n",
        "        sentence = sentence.strip()\n",
        "        sentence = '<start> ' + sentence\n",
        "        sentence += ' <end>'\n",
        "\n",
        "        return sentence"
      ]
    },
    {
      "cell_type": "markdown",
      "metadata": {
        "id": "gWzdyPft1E24"
      },
      "source": [
        "#7.분포에 맞는 문장 길이 선택"
      ]
    },
    {
      "cell_type": "code",
      "execution_count": null,
      "metadata": {
        "id": "R6e-qWeZYePp"
      },
      "outputs": [],
      "source": [
        "kor_corpus = []\n",
        "eng_corpus = []\n",
        "mecab = Mecab()\n",
        "num_examples = len(pair)\n",
        "\n",
        "for kor, eng in pair[:num_examples]:\n",
        "    k_cop = preprocess_sentence(kor, token=False)     \n",
        "    e_cop = preprocess_sentence(eng, token=True) \n",
        "    m_k_cop = mecab.morphs(k_cop)\n",
        "\n",
        "    if 10 <= len(m_k_cop) <= 80 and 15 <= len(e_cop) <= 85:       # 보캡 사이즈 조절                \n",
        "        kor_corpus.append(m_k_cop) \n",
        "        eng_corpus.append(e_cop)"
      ]
    },
    {
      "cell_type": "code",
      "execution_count": null,
      "metadata": {
        "colab": {
          "base_uri": "https://localhost:8080/"
        },
        "id": "JdgQH_GNZqn9",
        "outputId": "2f516224-0815-40b2-8850-6e758f646404"
      },
      "outputs": [
        {
          "output_type": "stream",
          "name": "stdout",
          "text": [
            "한글 확인 : ['강도', '는', '이런', '대응', '을', '전혀', '예상', '하', '지', '못한', '듯', '했', '다']\n",
            "영어 확인 : <start> the guy obviously was not expecting such a reaction <end>\n",
            "\n",
            "한글 문장 갯수 : 10042\n",
            "영어 문장 갯수 : 10042\n",
            "\n",
            "한글 문장 최장 길이 : 73\n",
            "한글 문장 최단 길이 : 10\n",
            "영어 문장 최장 길이 : 85\n",
            "영어 문장 최단 길이 : 22\n"
          ]
        }
      ],
      "source": [
        "print(\"한글 확인 :\", kor_corpus[3000])\n",
        "print(\"영어 확인 :\", eng_corpus[3000])\n",
        "print()\n",
        "print(\"한글 문장 갯수 :\", len(kor_corpus))\n",
        "print(\"영어 문장 갯수 :\", len(eng_corpus))\n",
        "print()\n",
        "\n",
        "k_maxlen = max([len(w) for w in kor_corpus])\n",
        "e_maxlen = max([len(w) for w in eng_corpus])\n",
        "\n",
        "k_minlen = min([len(w) for w in kor_corpus])\n",
        "e_minlen = min([len(w) for w in eng_corpus])\n",
        "\n",
        "print('한글 문장 최장 길이 :', k_maxlen)\n",
        "print('한글 문장 최단 길이 :', k_minlen)\n",
        "print('영어 문장 최장 길이 :', e_maxlen)\n",
        "print('영어 문장 최단 길이 :', e_minlen)"
      ]
    },
    {
      "cell_type": "markdown",
      "metadata": {
        "id": "gfPJxbX21bLg"
      },
      "source": [
        "#8.전처리 확인용 텍스트 파일 생성(진행중)"
      ]
    },
    {
      "cell_type": "code",
      "execution_count": null,
      "metadata": {
        "id": "yyee3X4kjcni"
      },
      "outputs": [],
      "source": [
        "with open('한글 전처리 확인용', 'w', encoding='utf8') as f:\n",
        "    f.write('\\n'.join(map(str, kor_corpus)))\n",
        "\n",
        "with open('영어 전처리 확인용', 'w', encoding='utf8') as f:\n",
        "    f.write('\\n'.join(map(str, eng_corpus)))"
      ]
    },
    {
      "cell_type": "markdown",
      "metadata": {
        "id": "xM-3elbq1mhR"
      },
      "source": [
        "#9.문장 토큰화 및 보캡사이즈 확인"
      ]
    },
    {
      "cell_type": "code",
      "execution_count": null,
      "metadata": {
        "id": "Sz_vMiH3e3cT"
      },
      "outputs": [],
      "source": [
        "def tokenize(corpus, maxlen):\n",
        "    tokenizer = tf.keras.preprocessing.text.Tokenizer(filters='')\n",
        "    tokenizer.fit_on_texts(corpus)\n",
        "\n",
        "    tensor = tokenizer.texts_to_sequences(corpus)\n",
        "    tensor = tf.keras.preprocessing.sequence.pad_sequences(tensor, padding='post', maxlen=maxlen)\n",
        "\n",
        "    return tensor, tokenizer"
      ]
    },
    {
      "cell_type": "code",
      "execution_count": null,
      "metadata": {
        "colab": {
          "base_uri": "https://localhost:8080/"
        },
        "id": "OsEJvk5-fDER",
        "outputId": "5c60489b-1243-41b3-b0fd-3e8e1406dd9f"
      },
      "outputs": [
        {
          "output_type": "stream",
          "name": "stdout",
          "text": [
            "Korean Vocab Size : 14257\n",
            "English Vocab Size : 12977\n"
          ]
        }
      ],
      "source": [
        "kor_tensor, kor_tokenizer = tokenize(kor_corpus, k_maxlen)\n",
        "eng_tensor, eng_tokenizer = tokenize(eng_corpus, e_maxlen)\n",
        "\n",
        "print(\"Korean Vocab Size :\", len(kor_tokenizer.index_word))\n",
        "print(\"English Vocab Size :\", len(eng_tokenizer.index_word))"
      ]
    },
    {
      "cell_type": "code",
      "execution_count": null,
      "metadata": {
        "colab": {
          "base_uri": "https://localhost:8080/"
        },
        "id": "qyWy1mw_sL5Q",
        "outputId": "6588941a-67fa-4d8b-c9f4-34b09da3170d"
      },
      "outputs": [
        {
          "output_type": "stream",
          "name": "stdout",
          "text": [
            "한글 패딩 길이 : 73\n",
            "영어 패딩 길이 : 85\n"
          ]
        }
      ],
      "source": [
        "k_t_maxlen = max([len(w) for w in kor_tensor])\n",
        "e_t_maxlen = max([len(w) for w in eng_tensor])\n",
        "\n",
        "print('한글 패딩 길이 :', k_t_maxlen)\n",
        "print('영어 패딩 길이 :', e_t_maxlen)"
      ]
    },
    {
      "cell_type": "markdown",
      "metadata": {
        "id": "c-zxyMK413E4"
      },
      "source": [
        "#10.데이터 셋 나누기"
      ]
    },
    {
      "cell_type": "code",
      "execution_count": null,
      "metadata": {
        "id": "ilvSHtnJfxqX"
      },
      "outputs": [],
      "source": [
        "from sklearn.model_selection import train_test_split\n",
        "\n",
        "kor_train, kor_val, eng_train, eng_val = train_test_split(kor_tensor, eng_tensor, test_size = 0.2)"
      ]
    },
    {
      "cell_type": "markdown",
      "metadata": {
        "id": "OAnBv_Oi18pM"
      },
      "source": [
        "#11.바다나우 어텐션 클래스"
      ]
    },
    {
      "cell_type": "code",
      "execution_count": null,
      "metadata": {
        "id": "3pUWlUb8gUX_"
      },
      "outputs": [],
      "source": [
        "# 바다나우 어텐션 클래스 만들기\n",
        "class BahdanauAttention(tf.keras.layers.Layer):\n",
        "    def __init__(self, units):\n",
        "        super(BahdanauAttention, self).__init__()\n",
        "        self.w_dec = tf.keras.layers.Dense(units)\n",
        "        self.w_enc = tf.keras.layers.Dense(units)\n",
        "        self.w_com = tf.keras.layers.Dense(1)\n",
        "    \n",
        "    def call(self, h_enc, h_dec):\n",
        "        # h_enc shape : [batch x length x units]\n",
        "        # h_dec shape : [batch x units]\n",
        "\n",
        "        h_enc = self.w_enc(h_enc)\n",
        "        # print('한글 인코더 출력 값 행렬 :', h_enc)\n",
        "        # print()\n",
        "        # print('차원 추가 전 한글 끝 시퀀스 행렬 :', h_dec)\n",
        "        # print()\n",
        "        h_dec = tf.expand_dims(h_dec, 1)\n",
        "        h_dec = self.w_dec(h_dec)\n",
        "        # print('차원 추가 후 한글 끝 시퀀스 행렬 :', h_dec)\n",
        "        # print()\n",
        "\n",
        "        score = self.w_com(tf.nn.tanh(h_dec + h_enc))\n",
        "        # print('컴바인 Dense[1](하.탄젠트(끝 시퀀스 + 인코더 출력)) 행렬 :', score)\n",
        "        # print()\n",
        "\n",
        "        attn = tf.nn.softmax(score, axis = 1)\n",
        "        # print('attn(소프트 맥스 처리된) 행렬 :', attn)\n",
        "        # print()\n",
        "\n",
        "        context_vec = attn * h_enc\n",
        "        # print('context_vec(attn * 인코더 출력)) 행렬 :', context_vec)\n",
        "        # print()\n",
        "        context_vec = tf.reduce_sum(context_vec, axis=1)\n",
        "        # print('다 더한 context_vec 행렬 :', context_vec)\n",
        "        # print()\n",
        "        \n",
        "        return context_vec, attn"
      ]
    },
    {
      "cell_type": "markdown",
      "metadata": {
        "id": "pSU2r-gv2DJI"
      },
      "source": [
        "#11.인코더 클래스"
      ]
    },
    {
      "cell_type": "code",
      "execution_count": null,
      "metadata": {
        "id": "lpZp1F0ugU8n"
      },
      "outputs": [],
      "source": [
        "class Encoder(tf.keras.Model):\n",
        "    def __init__(self, vocab_size, embedding_dim, enc_units):\n",
        "        super(Encoder, self).__init__()\n",
        "        self.enc_units = enc_units\n",
        "        self.embedding = tf.keras.layers.Embedding(vocab_size, embedding_dim)\n",
        "        self.gru = tf.keras.layers.GRU(enc_units, return_sequences=True)\n",
        "\n",
        "    def call(self, x):\n",
        "        # print('한글 토큰 입력 행렬 :', x)\n",
        "        # print()\n",
        "        out = self.embedding(x)\n",
        "        # print('한글 토큰 임베딩후 행렬 :', out )\n",
        "        # print()\n",
        "        out = self.gru(out)\n",
        "        # print('한글 토큰 GRU후 행렬 :', out)\n",
        "        # print()\n",
        "\n",
        "        return out"
      ]
    },
    {
      "cell_type": "markdown",
      "metadata": {
        "id": "yfJV41QE2GsK"
      },
      "source": [
        "#12.디코더 클래스"
      ]
    },
    {
      "cell_type": "code",
      "execution_count": null,
      "metadata": {
        "id": "54YhiBaNgWcc"
      },
      "outputs": [],
      "source": [
        "class Decoder(tf.keras.Model):\n",
        "    def __init__(self, vocab_size, embedding_dim, dec_units):\n",
        "        super(Decoder, self).__init__()\n",
        "        self.dec_units= dec_units\n",
        "        self.embedding = tf.keras.layers.Embedding(vocab_size, embedding_dim)\n",
        "        self.gru = tf.keras.layers.GRU(dec_units, return_sequences=True, return_state= True)\n",
        "        self.fc = tf.keras.layers.Dense(vocab_size)\n",
        "        self.attention = BahdanauAttention(self.dec_units)\n",
        "    \n",
        "    def call(self, x, h_dec, enc_out):\n",
        "        context_vec, attn = self.attention(enc_out, h_dec)\n",
        "        # print('다 더한 context_vec 행렬 :', context_vec)\n",
        "        # print()\n",
        "        # print('attn(소프트 맥스 처리된) 행렬 :', attn)\n",
        "        # print()\n",
        "        # print('영어 토큰 입력 행렬 :', x)\n",
        "        # print()\n",
        "        out = self.embedding(x)\n",
        "        # print('영어 토큰 임베딩후 행렬 :', out)\n",
        "        # print()\n",
        "        out = tf.concat([tf.expand_dims(context_vec, 1), out], axis=-1)\n",
        "        # print('context_vec와 임베딩한 영어 concat 행렬  :', out)\n",
        "        # print()\n",
        "\n",
        "        out, h_dec = self.gru(out)\n",
        "        # print('GRU를 거친 concat 행렬 :', out)\n",
        "        # print()\n",
        "        # print('GRU후 return_state 행렬 :', h_dec)\n",
        "        # print()\n",
        "        out = tf.reshape(out, (-1, out.shape[2]))\n",
        "        # print('0, 1 차원을 모두 곱한 reshape 행렬 :', out)\n",
        "        # print()\n",
        "        out = self.fc(out)\n",
        "        # print('최종 Dense 행렬 :', out)\n",
        "        # print()\n",
        "\n",
        "        return out, h_dec, attn"
      ]
    },
    {
      "cell_type": "markdown",
      "metadata": {
        "id": "WhCpPPCR2Ix3"
      },
      "source": [
        "#13.인코더 및 디코더 생성 후 샘플 테스트"
      ]
    },
    {
      "cell_type": "code",
      "execution_count": null,
      "metadata": {
        "colab": {
          "base_uri": "https://localhost:8080/"
        },
        "id": "R3bvfFKMgXq2",
        "outputId": "9038489d-fd5a-41e0-9e5b-5923a773d5f8"
      },
      "outputs": [
        {
          "output_type": "stream",
          "name": "stdout",
          "text": [
            "샘플 인코더 출력 값 : (64, 30, 1024)\n",
            "샘플 스테이트 출력 값 : (64, 1024)\n",
            "샘플 디코더 출력 값 : (64, 12978)\n",
            "샘플 디코더 히든 스테이트 값 : (64, 1024)\n",
            "어텐션 값 : (64, 30, 1)\n"
          ]
        }
      ],
      "source": [
        "BATCH_SIZE = 64\n",
        "src_vocab_size = len(kor_tokenizer.index_word)+1\n",
        "tgt_vocab_size = len(eng_tokenizer.index_word)+1\n",
        "\n",
        "units = 1024\n",
        "embedding_dim = 512\n",
        "\n",
        "encoder = Encoder(src_vocab_size, embedding_dim, units)\n",
        "decoder = Decoder(tgt_vocab_size, embedding_dim, units)\n",
        "\n",
        "# sample input\n",
        "sequence_len = 30\n",
        "\n",
        "sample_enc = tf.random.uniform((BATCH_SIZE, sequence_len))\n",
        "sample_output = encoder(sample_enc)\n",
        "\n",
        "print('샘플 인코더 출력 값 :', sample_output.shape)\n",
        "\n",
        "sample_state = tf.random.uniform((BATCH_SIZE, units))\n",
        "print('샘플 스테이트 출력 값 :', sample_state.shape)\n",
        "\n",
        "sample_logits, h_dec, attn = decoder(tf.random.uniform((BATCH_SIZE, 1)), sample_state, sample_output)\n",
        "\n",
        "print('샘플 디코더 출력 값 :', sample_logits.shape)\n",
        "print('샘플 디코더 히든 스테이트 값 :', h_dec.shape)\n",
        "print('어텐션 값 :', attn.shape)"
      ]
    },
    {
      "cell_type": "markdown",
      "metadata": {
        "id": "ixlQnbAM2W42"
      },
      "source": [
        "#14.손실함수 클래스"
      ]
    },
    {
      "cell_type": "code",
      "execution_count": null,
      "metadata": {
        "id": "P5uFIlaZgnRH"
      },
      "outputs": [],
      "source": [
        "optimizer = tf.keras.optimizers.Adam()\n",
        "loss_object = tf.keras.losses.SparseCategoricalCrossentropy(from_logits=True, reduction='none')\n",
        "\n",
        "def loss_function(real, pred):\n",
        "    mask = tf.math.logical_not(tf.math.equal(real, 0))\n",
        "    loss = loss_object(real, pred)\n",
        "\n",
        "    mask = tf.cast(mask, dtype = loss.dtype)\n",
        "    loss *= mask\n",
        "\n",
        "    return tf.reduce_mean(loss)"
      ]
    },
    {
      "cell_type": "markdown",
      "metadata": {
        "id": "PcnBKXSd2gPp"
      },
      "source": [
        "#15.Train 학습 함수"
      ]
    },
    {
      "cell_type": "code",
      "execution_count": null,
      "metadata": {
        "id": "CfhWcYIfgocx"
      },
      "outputs": [],
      "source": [
        "@tf.function # 가속 연산\n",
        "def train_step(src, tgt, encoder, decoder, optimizer, dec_tok):\n",
        "    bsz = src.shape[0]                # kor_train 행의 갯수 (2228개)\n",
        "    loss = 0                          # 손실 시작 0\n",
        "\n",
        "    with tf.GradientTape() as tape:   # 학습하면서 발생한 모든 연산을 기록하는 테이프\n",
        "        enc_out = encoder(src)        # 인코딩된 kor_train / shape(2228, 57, 1024)\n",
        "        h_dec = enc_out[:, -1]        # 인코딩된 kor_train의 각 문장의 끝 시퀀스만 추출 / shape(2228, 1024)\n",
        "        \n",
        "        dec_src = tf.expand_dims([dec_tok.word_index['<start>']] * bsz, 1)  # 문장의 수(2228개)만큼 '<start>'의 인덱스[1] 로 된 (2228, 1) 차원 생성                                                                          \n",
        "\n",
        "        for t in range(1, tgt.shape[1]):                         # 1부터 eng_train의 열(문장내 단어수[60]) 만큼 반복 할때\n",
        "            pred, h_dec, _ = decoder(dec_src, h_dec, enc_out)    # 인덱스[1] (2228, 1), 문장의 끝 시퀀스(2228, 1024), 인코딩된 한글(2228, 57, 1024)\n",
        "\n",
        "            loss += loss_function(tgt[:, t], pred)               # 영어 토큰과 예측값 비교하여 loss에 누적한다\n",
        "            dec_src = tf.expand_dims(tgt[:, t], 1)               # eng_train의 차원(2228, )을 증가(2228, 1)시킨 후 dec_src로 업데이트\n",
        "        \n",
        "    batch_loss = (loss / int(tgt.shape[1]))                      # 누적된 로스를 문장의 길이로 나누어 배치 로스를 구한다\n",
        "\n",
        "    variables = encoder.trainable_variables + decoder.trainable_variables\n",
        "    gradients = tape.gradient(loss, variables)\n",
        "    optimizer.apply_gradients(zip(gradients, variables))\n",
        "    \n",
        "    return batch_loss"
      ]
    },
    {
      "cell_type": "markdown",
      "metadata": {
        "id": "dhcb0vURfIVd"
      },
      "source": [
        "#16.Test 학습 함수"
      ]
    },
    {
      "cell_type": "code",
      "execution_count": null,
      "metadata": {
        "id": "g3c5NxZxd69M"
      },
      "outputs": [],
      "source": [
        "@tf.function\n",
        "def eval_step(src, tgt, encoder, decoder, optimizer, dec_tok):\n",
        "    bsz = src.shape[0]\n",
        "    loss = 0\n",
        "\n",
        "    with tf.GradientTape() as tape:\n",
        "        enc_out = encoder(src)\n",
        "        h_dec = enc_out[:, -1]\n",
        "\n",
        "        dec_src = tf.expand_dims([dec_tok.word_index['<start>']] * bsz, 1)\n",
        "\n",
        "        for t in range(1, tgt.shape[1]):\n",
        "            pred, h_dec, _ = decoder(dec_src, h_dec, enc_out)\n",
        "\n",
        "            loss += loss_function(tgt[:, t], pred)\n",
        "            dec_src = tf.expand_dims(tgt[:, t], 1)\n",
        "\n",
        "    batch_loss = (loss / int(tgt.shape[1]))\n",
        "\n",
        "    variables = encoder.trainable_variables + decoder.trainable_variables\n",
        "    gradients = tape.gradient(loss, variables)\n",
        "    optimizer.apply_gradients(zip(gradients, variables))\n",
        "\n",
        "    return batch_loss"
      ]
    },
    {
      "cell_type": "markdown",
      "metadata": {
        "id": "ReO37Qqhjz2x"
      },
      "source": [
        "#17. 전체 학습"
      ]
    },
    {
      "cell_type": "code",
      "execution_count": null,
      "metadata": {
        "colab": {
          "base_uri": "https://localhost:8080/"
        },
        "id": "fVOp2Aj3hWkn",
        "outputId": "a399668f-0577-44e0-ca0b-08a313919985"
      },
      "outputs": [
        {
          "output_type": "stream",
          "name": "stderr",
          "text": [
            "Train Epoch  1: 100%|██████████| 126/126 [04:20<00:00,  2.07s/it, Loss 0.9219]\n",
            "Test Epoch  1: 100%|██████████| 32/32 [02:24<00:00,  4.53s/it, Test Loss 0.8928]\n",
            "Train Epoch  2: 100%|██████████| 126/126 [01:39<00:00,  1.26it/s, Loss 0.8610]\n",
            "Test Epoch  2: 100%|██████████| 32/32 [00:25<00:00,  1.28it/s, Test Loss 0.8226]\n",
            "Train Epoch  3: 100%|██████████| 126/126 [01:39<00:00,  1.26it/s, Loss 0.7843]\n",
            "Test Epoch  3: 100%|██████████| 32/32 [00:25<00:00,  1.28it/s, Test Loss 0.7386]\n",
            "Train Epoch  4: 100%|██████████| 126/126 [01:39<00:00,  1.26it/s, Loss 0.7226]\n",
            "Test Epoch  4: 100%|██████████| 32/32 [00:25<00:00,  1.28it/s, Test Loss 0.6798]\n",
            "Train Epoch  5: 100%|██████████| 126/126 [01:39<00:00,  1.26it/s, Loss 0.6677]\n",
            "Test Epoch  5: 100%|██████████| 32/32 [00:25<00:00,  1.28it/s, Test Loss 0.6300]\n",
            "Train Epoch  6: 100%|██████████| 126/126 [01:39<00:00,  1.26it/s, Loss 0.6125]\n",
            "Test Epoch  6: 100%|██████████| 32/32 [00:25<00:00,  1.27it/s, Test Loss 0.5738]\n",
            "Train Epoch  7: 100%|██████████| 126/126 [01:39<00:00,  1.26it/s, Loss 0.5550]\n",
            "Test Epoch  7: 100%|██████████| 32/32 [00:25<00:00,  1.28it/s, Test Loss 0.5160]\n",
            "Train Epoch  8: 100%|██████████| 126/126 [01:39<00:00,  1.26it/s, Loss 0.4972]\n",
            "Test Epoch  8: 100%|██████████| 32/32 [00:25<00:00,  1.27it/s, Test Loss 0.4599]\n",
            "Train Epoch  9: 100%|██████████| 126/126 [01:39<00:00,  1.26it/s, Loss 0.4423]\n",
            "Test Epoch  9: 100%|██████████| 32/32 [00:25<00:00,  1.28it/s, Test Loss 0.4149]\n",
            "Train Epoch 10: 100%|██████████| 126/126 [01:39<00:00,  1.26it/s, Loss 0.3908]\n",
            "Test Epoch 10: 100%|██████████| 32/32 [00:25<00:00,  1.28it/s, Test Loss 0.3653]\n",
            "Train Epoch 11: 100%|██████████| 126/126 [01:39<00:00,  1.26it/s, Loss 0.3412]\n",
            "Test Epoch 11: 100%|██████████| 32/32 [00:25<00:00,  1.28it/s, Test Loss 0.3210]\n",
            "Train Epoch 12: 100%|██████████| 126/126 [01:39<00:00,  1.26it/s, Loss 0.2955]\n",
            "Test Epoch 12: 100%|██████████| 32/32 [00:25<00:00,  1.27it/s, Test Loss 0.2778]\n",
            "Train Epoch 13: 100%|██████████| 126/126 [01:39<00:00,  1.26it/s, Loss 0.2545]\n",
            "Test Epoch 13: 100%|██████████| 32/32 [00:25<00:00,  1.27it/s, Test Loss 0.2423]\n",
            "Train Epoch 14: 100%|██████████| 126/126 [01:39<00:00,  1.26it/s, Loss 0.2193]\n",
            "Test Epoch 14: 100%|██████████| 32/32 [00:25<00:00,  1.27it/s, Test Loss 0.2096]\n",
            "Train Epoch 15: 100%|██████████| 126/126 [01:39<00:00,  1.26it/s, Loss 0.1886]\n",
            "Test Epoch 15: 100%|██████████| 32/32 [00:25<00:00,  1.28it/s, Test Loss 0.1793]\n",
            "Train Epoch 16: 100%|██████████| 126/126 [01:39<00:00,  1.26it/s, Loss 0.1618]\n",
            "Test Epoch 16: 100%|██████████| 32/32 [00:25<00:00,  1.28it/s, Test Loss 0.1555]\n",
            "Train Epoch 17: 100%|██████████| 126/126 [01:39<00:00,  1.26it/s, Loss 0.1403]\n",
            "Test Epoch 17: 100%|██████████| 32/32 [00:25<00:00,  1.27it/s, Test Loss 0.1320]\n",
            "Train Epoch 18: 100%|██████████| 126/126 [01:39<00:00,  1.26it/s, Loss 0.1196]\n",
            "Test Epoch 18: 100%|██████████| 32/32 [00:25<00:00,  1.28it/s, Test Loss 0.1140]\n",
            "Train Epoch 19: 100%|██████████| 126/126 [01:39<00:00,  1.26it/s, Loss 0.1025]\n",
            "Test Epoch 19: 100%|██████████| 32/32 [00:25<00:00,  1.28it/s, Test Loss 0.0960]\n",
            "Train Epoch 20: 100%|██████████| 126/126 [01:39<00:00,  1.26it/s, Loss 0.0868]\n",
            "Test Epoch 20: 100%|██████████| 32/32 [00:25<00:00,  1.28it/s, Test Loss 0.0822]\n",
            "Train Epoch 21: 100%|██████████| 126/126 [01:39<00:00,  1.26it/s, Loss 0.0736]\n",
            "Test Epoch 21: 100%|██████████| 32/32 [00:25<00:00,  1.28it/s, Test Loss 0.0715]\n",
            "Train Epoch 22: 100%|██████████| 126/126 [01:39<00:00,  1.26it/s, Loss 0.0627]\n",
            "Test Epoch 22: 100%|██████████| 32/32 [00:25<00:00,  1.28it/s, Test Loss 0.0610]\n",
            "Train Epoch 23: 100%|██████████| 126/126 [01:39<00:00,  1.26it/s, Loss 0.0541]\n",
            "Test Epoch 23: 100%|██████████| 32/32 [00:25<00:00,  1.28it/s, Test Loss 0.0514]\n",
            "Train Epoch 24: 100%|██████████| 126/126 [01:39<00:00,  1.26it/s, Loss 0.0469]\n",
            "Test Epoch 24: 100%|██████████| 32/32 [00:25<00:00,  1.28it/s, Test Loss 0.0445]\n",
            "Train Epoch 25: 100%|██████████| 126/126 [01:39<00:00,  1.26it/s, Loss 0.0398]\n",
            "Test Epoch 25: 100%|██████████| 32/32 [00:25<00:00,  1.28it/s, Test Loss 0.0386]\n",
            "Train Epoch 26: 100%|██████████| 126/126 [01:39<00:00,  1.26it/s, Loss 0.0342]\n",
            "Test Epoch 26: 100%|██████████| 32/32 [00:25<00:00,  1.28it/s, Test Loss 0.0320]\n",
            "Train Epoch 27: 100%|██████████| 126/126 [01:39<00:00,  1.26it/s, Loss 0.0295]\n",
            "Test Epoch 27: 100%|██████████| 32/32 [00:25<00:00,  1.28it/s, Test Loss 0.0280]\n",
            "Train Epoch 28: 100%|██████████| 126/126 [01:39<00:00,  1.26it/s, Loss 0.0256]\n",
            "Test Epoch 28: 100%|██████████| 32/32 [00:25<00:00,  1.28it/s, Test Loss 0.0247]\n",
            "Train Epoch 29: 100%|██████████| 126/126 [01:39<00:00,  1.26it/s, Loss 0.0223]\n",
            "Test Epoch 29: 100%|██████████| 32/32 [00:25<00:00,  1.27it/s, Test Loss 0.0217]\n",
            "Train Epoch 30: 100%|██████████| 126/126 [01:39<00:00,  1.26it/s, Loss 0.0203]\n",
            "Test Epoch 30: 100%|██████████| 32/32 [00:25<00:00,  1.28it/s, Test Loss 0.0182]\n",
            "Train Epoch 31: 100%|██████████| 126/126 [01:39<00:00,  1.26it/s, Loss 0.0183]\n",
            "Test Epoch 31: 100%|██████████| 32/32 [00:25<00:00,  1.27it/s, Test Loss 0.0172]\n",
            "Train Epoch 32: 100%|██████████| 126/126 [01:39<00:00,  1.26it/s, Loss 0.0161]\n",
            "Test Epoch 32: 100%|██████████| 32/32 [00:25<00:00,  1.27it/s, Test Loss 0.0160]\n",
            "Train Epoch 33: 100%|██████████| 126/126 [01:39<00:00,  1.26it/s, Loss 0.0152]\n",
            "Test Epoch 33: 100%|██████████| 32/32 [00:25<00:00,  1.28it/s, Test Loss 0.0152]\n",
            "Train Epoch 34: 100%|██████████| 126/126 [01:39<00:00,  1.26it/s, Loss 0.0155]\n",
            "Test Epoch 34: 100%|██████████| 32/32 [00:25<00:00,  1.28it/s, Test Loss 0.0152]\n",
            "Train Epoch 35: 100%|██████████| 126/126 [01:39<00:00,  1.26it/s, Loss 0.0154]\n",
            "Test Epoch 35: 100%|██████████| 32/32 [00:25<00:00,  1.28it/s, Test Loss 0.0153]\n"
          ]
        }
      ],
      "source": [
        "# Training Process\n",
        "from tqdm import tqdm\n",
        "import random\n",
        "\n",
        "EPOCHS = 35\n",
        "\n",
        "for epoch in range(EPOCHS):\n",
        "    total_loss = 0\n",
        "\n",
        "    idx_list = list(range(0, kor_train.shape[0], BATCH_SIZE))\n",
        "    random.shuffle(idx_list)\n",
        "    t = tqdm(idx_list)\n",
        "\n",
        "    for (batch, idx) in enumerate(t):\n",
        "        batch_loss = train_step(kor_train[idx:idx+BATCH_SIZE],\n",
        "                                eng_train[idx:idx+BATCH_SIZE],\n",
        "                                encoder,\n",
        "                                decoder,\n",
        "                                optimizer,\n",
        "                                eng_tokenizer)\n",
        "        total_loss += batch_loss\n",
        "\n",
        "        t.set_description_str('Train Epoch %2d' % (epoch +1))\n",
        "        t.set_postfix_str('Loss %.4f' % (total_loss.numpy()/ (batch+1)))\n",
        "\n",
        "    test_loss = 0\n",
        "\n",
        "    idx_list = list(range(0, kor_val.shape[0], BATCH_SIZE))\n",
        "    random.shuffle(idx_list)\n",
        "    t = tqdm(idx_list)\n",
        "\n",
        "    for (test_batch, idx) in enumerate(t):\n",
        "        test_batch_loss = eval_step(kor_val[idx:idx+BATCH_SIZE],\n",
        "                                    eng_val[idx:idx+BATCH_SIZE],\n",
        "                                    encoder,\n",
        "                                    decoder,\n",
        "                                    optimizer,\n",
        "                                    eng_tokenizer)\n",
        "        test_loss += test_batch_loss\n",
        "\n",
        "        t.set_description_str('Test Epoch %2d' % (epoch+1))\n",
        "        t.set_postfix_str('Test Loss %.4f' % (test_loss.numpy()/ (test_batch+1)))"
      ]
    },
    {
      "cell_type": "markdown",
      "metadata": {
        "id": "ED9bl-XCj9pA"
      },
      "source": [
        "#18.새로운 입력으로 들어오는 문장 정리 함수"
      ]
    },
    {
      "cell_type": "code",
      "execution_count": null,
      "metadata": {
        "id": "BRPYzVN0innl"
      },
      "outputs": [],
      "source": [
        "from itertools import chain\n",
        "\n",
        "def evaluate(sentence, encoder, decoder):\n",
        "    attention = np.zeros((eng_train.shape[-1], kor_train.shape[-1]))\n",
        "    sentence = preprocess_sentence(sentence, token=False)\n",
        "\n",
        "    inputs = kor_tokenizer.texts_to_sequences(mecab.morphs(sentence))\n",
        "    flatten = [list(chain(*inputs))]\n",
        "    inputs = tf.keras.preprocessing.sequence.pad_sequences(flatten, maxlen = kor_train.shape[-1], padding= 'post')\n",
        "  \n",
        "    result = ''\n",
        "    enc_out = encoder(inputs)\n",
        "    dec_hidden = enc_out[:, -1]\n",
        "    dec_input = tf.expand_dims([eng_tokenizer.word_index['<start>']], 0)\n",
        "\n",
        "    for t in range(eng_train.shape[-1]):\n",
        "        predictions, dec_hidden, attention_weights = decoder(dec_input,\n",
        "                                                            dec_hidden,\n",
        "                                                            enc_out)\n",
        "    \n",
        "        attention_weights = tf.reshape(attention_weights, (-1, ))\n",
        "        attention[t] = attention_weights.numpy()\n",
        "\n",
        "        predicted_id = tf.argmax(tf.math.softmax(predictions, axis=-1)[0]).numpy()\n",
        "\n",
        "        result += eng_tokenizer.index_word[predicted_id] + ' '\n",
        "\n",
        "        if eng_tokenizer.index_word[predicted_id] == '<end>':\n",
        "            return result, sentence, attention\n",
        "\n",
        "        dec_input = tf.expand_dims([predicted_id], 0)\n",
        "\n",
        "    return result, sentence, attention"
      ]
    },
    {
      "cell_type": "markdown",
      "metadata": {
        "id": "wyhbe50nkeeB"
      },
      "source": [
        "#19. 문장 일치 비교 그래프 생성 함수"
      ]
    },
    {
      "cell_type": "code",
      "execution_count": null,
      "metadata": {
        "id": "84CTLFVIiqLT"
      },
      "outputs": [],
      "source": [
        "# import matplotlib.ticker as ticker\n",
        "# import matplotlib.pyplot as plt\n",
        "\n",
        "# def plot_attention(attention, sentence, predicted_sentence):\n",
        "\n",
        "#     plt.rcParams['font.family'] ='Malgun Gothic'\n",
        "#     plt.rcParams['axes.unicode_minus'] = False\n",
        "\n",
        "#     fig = plt.figure(figsize=(10, 10))\n",
        "#     ax = fig.add_subplot(1, 1, 1)\n",
        "#     ax.matshow(attention, cmap='viridis')\n",
        "\n",
        "#     fontdict = {'fontsize': 14}\n",
        "\n",
        "#     ax.set_xticklabels([''] + sentence, fontdict=fontdict, rotation=90)\n",
        "#     ax.set_yticklabels([''] + predicted_sentence, fontdict = fontdict)\n",
        "\n",
        "#     ax.xaxis.set_major_locator(ticker.MultipleLocator(1))\n",
        "#     ax.yaxis.set_major_locator(ticker.MultipleLocator(1))\n",
        "\n",
        "#     plt.show()"
      ]
    },
    {
      "cell_type": "markdown",
      "source": [
        "#20.번역 확인 함수"
      ],
      "metadata": {
        "id": "TdZPe-kYgM2h"
      }
    },
    {
      "cell_type": "code",
      "execution_count": null,
      "metadata": {
        "id": "50bxk-ZeiwT1"
      },
      "outputs": [],
      "source": [
        "def translate(sentence, encoder, decoder):\n",
        "    result, sentence, attention = evaluate(sentence, encoder, decoder)\n",
        "\n",
        "    print('Input : %s' % (sentence))\n",
        "    print('Output : {}'.format(result),'\\n')\n",
        "\n",
        "    attention = attention[:len(result.split()), :len(sentence.split())]\n",
        "    # plot_attention(attention, sentence.split(), result.split(' '))"
      ]
    },
    {
      "cell_type": "code",
      "source": [
        "sentence = ['그는 미국의 대통령',\n",
        "            '그녀는 휴식이 필요해',\n",
        "            '이스라엘은 이란과 전쟁을 준비한다',\n",
        "            '지구의 날씨는 점점 위험하다',\n",
        "            '미군은 이라크에서 철수 했다']\n",
        "\n",
        "for word in sentence:\n",
        "    translate(str(word), encoder, decoder)"
      ],
      "metadata": {
        "colab": {
          "base_uri": "https://localhost:8080/"
        },
        "id": "_p-zWRE4e5U1",
        "outputId": "7ef58818-d120-4df2-900b-6c3891375226"
      },
      "execution_count": null,
      "outputs": [
        {
          "output_type": "stream",
          "name": "stdout",
          "text": [
            "Input : 그는 미국의 대통령\n",
            "Output : he is the americans are <end>  \n",
            "\n",
            "Input : 그녀는 휴식이 필요해\n",
            "Output : she was at home <end>  \n",
            "\n",
            "Input : 이스라엘은 이란과 전쟁을 준비한다\n",
            "Output : israel considers iran for terror <end>  \n",
            "\n",
            "Input : 지구의 날씨는 점점 위험하다\n",
            "Output : the weather on earth could face <end>  \n",
            "\n",
            "Input : 미군은 이라크에서 철수 했다\n",
            "Output : the us military is to us troops in iraq <end>  \n",
            "\n"
          ]
        }
      ]
    }
  ],
  "metadata": {
    "colab": {
      "collapsed_sections": [],
      "name": "seq_2_seq 구현",
      "provenance": [],
      "authorship_tag": "ABX9TyMbeuq8kBTVcD3DQFcqClBM",
      "include_colab_link": true
    },
    "kernelspec": {
      "display_name": "Python 3",
      "name": "python3"
    },
    "language_info": {
      "name": "python"
    }
  },
  "nbformat": 4,
  "nbformat_minor": 0
}