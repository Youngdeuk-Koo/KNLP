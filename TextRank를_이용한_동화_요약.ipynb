{
  "cells": [
    {
      "cell_type": "markdown",
      "metadata": {
        "id": "view-in-github",
        "colab_type": "text"
      },
      "source": [
        "<a href=\"https://colab.research.google.com/github/Youngdeuk-Koo/KNLP/blob/main/TextRank%EB%A5%BC_%EC%9D%B4%EC%9A%A9%ED%95%9C_%EB%8F%99%ED%99%94_%EC%9A%94%EC%95%BD.ipynb\" target=\"_parent\"><img src=\"https://colab.research.google.com/assets/colab-badge.svg\" alt=\"Open In Colab\"/></a>"
      ]
    },
    {
      "cell_type": "code",
      "execution_count": null,
      "metadata": {
        "id": "ah-4hBgpU2gI"
      },
      "outputs": [],
      "source": [
        "!pip install konlpy\n",
        "!git clone https://github.com/SOMJANG/Mecab-ko-for-Google-Colab.git \n",
        "%cd Mecab-ko-for-Google-Colab/\n",
        "!bash install_mecab-ko_on_colab190912.sh\n",
        "%cd ../"
      ]
    },
    {
      "cell_type": "markdown",
      "source": [
        "#0. 시스템 재귀 횟수 오류 방지용"
      ],
      "metadata": {
        "id": "kL99MG5y5wSK"
      }
    },
    {
      "cell_type": "code",
      "source": [
        "import sys\n",
        "\n",
        "def func(n):\n",
        "    # if not n%100:print(n)\n",
        "    if n == 14900:\n",
        "        return\n",
        "    func(n + 1)\n",
        "\n",
        "if __name__=='__main__':\n",
        "    sys.setrecursionlimit(15000)\n",
        "    func(1)"
      ],
      "metadata": {
        "id": "xv00bJJr4cRo"
      },
      "execution_count": 2,
      "outputs": []
    },
    {
      "cell_type": "code",
      "execution_count": 3,
      "metadata": {
        "id": "g-uQoZpt8nsf"
      },
      "outputs": [],
      "source": [
        "from konlpy.tag import Mecab\n",
        "from sklearn.feature_extraction.text import TfidfVectorizer\n",
        "from sklearn.feature_extraction.text import CountVectorizer\n",
        "from sklearn.preprocessing import normalize\n",
        "import numpy as np"
      ]
    },
    {
      "cell_type": "markdown",
      "source": [
        "#1. 전처리된 텍스트 데이터 불러오기(아기 돼지 삼형제)"
      ],
      "metadata": {
        "id": "Nrze3DO2taLt"
      }
    },
    {
      "cell_type": "code",
      "execution_count": 4,
      "metadata": {
        "id": "GffeCTltmWpZ"
      },
      "outputs": [],
      "source": [
        "with open('/content/drive/MyDrive/AI_Study/NLP/DATA/소설 및 동화/아기돼지3형제.txt', 'r', encoding='utf-8') as f :\n",
        "    text = f.read().splitlines()"
      ]
    },
    {
      "cell_type": "markdown",
      "source": [
        "#2. 불용어 리스트 불러오기"
      ],
      "metadata": {
        "id": "elO4dgbtthFH"
      }
    },
    {
      "cell_type": "code",
      "execution_count": 5,
      "metadata": {
        "id": "ZcWeBSLm8skK"
      },
      "outputs": [],
      "source": [
        "with open('/content/drive/MyDrive/AI_Study/NLP/DATA/전처리용 DATA/custom_stopwords.txt', 'r', encoding='utf-8') as f :\n",
        "    stopwords = f.read().splitlines()  "
      ]
    },
    {
      "cell_type": "markdown",
      "source": [
        "#3. 명사 형태소로 구분후 불용어 제거 클래스"
      ],
      "metadata": {
        "id": "2sYff2bsuMkO"
      }
    },
    {
      "cell_type": "code",
      "execution_count": 11,
      "metadata": {
        "id": "tDgBPDSU8_Wm"
      },
      "outputs": [],
      "source": [
        "class Mecab_sentence(object):\n",
        "\n",
        "    def __init__(self): \n",
        "        self.stopwords = stopwords\n",
        "        self.mecab = Mecab()\n",
        "\n",
        "    def nouns(self, sentences):\n",
        "        nouns = []\n",
        "        for sen in sentences:\n",
        "            if sen != ' ' :\n",
        "                nouns.append(\" \".join([noun for noun in self.mecab.nouns(str(sen)) \n",
        "                                  if noun not in self.stopwords and len(noun) > 1]))\n",
        "        return nouns"
      ]
    },
    {
      "cell_type": "markdown",
      "source": [
        "#4.TF-IDF 행렬 그래프와 빈도수 벡터 행렬 그래프 작성 클래스"
      ],
      "metadata": {
        "id": "xvxiPMZZufgZ"
      }
    },
    {
      "cell_type": "code",
      "source": [
        "class G_matrix(object):\n",
        "\n",
        "    def __init__(self):\n",
        "        self.TF_IDF = TfidfVectorizer()\n",
        "        self.cnt_vec = CountVectorizer()\n",
        "  \n",
        "    def sent_matrix(self, nouns):\n",
        "        TF_IDF_MAT = self.TF_IDF.fit_transform(nouns).toarray()\n",
        "        graph_sentence = np.dot(TF_IDF_MAT, TF_IDF_MAT.T)    # 용어 빈도와 역 문서 빈도와의 통계 곱\n",
        "        return graph_sentence\n",
        "\n",
        "    def word_matrix(self, nouns):\n",
        "        CNT_VEC_MAT = normalize(self.cnt_vec.fit_transform(nouns).toarray().astype(float), axis=0)\n",
        "        vocab = self.cnt_vec.vocabulary_\n",
        "        return np.dot(CNT_VEC_MAT.T, CNT_VEC_MAT), {vocab[word] : word for word in vocab}"
      ],
      "metadata": {
        "id": "r7ckiQgDvI3k"
      },
      "execution_count": 12,
      "outputs": []
    },
    {
      "cell_type": "markdown",
      "source": [
        "#5.TF-IDF 행렬 그래프와 연립 일차방정식을 이용하여 랭크를 태그"
      ],
      "metadata": {
        "id": "J0Mz_VkKwNxT"
      }
    },
    {
      "cell_type": "code",
      "execution_count": 13,
      "metadata": {
        "id": "UxTchWLP1KdV"
      },
      "outputs": [],
      "source": [
        "class Rank(object):\n",
        "\n",
        "    def get_ranks(self, graph, d=0.85):\n",
        "        A = graph\n",
        "        matrix_size = A.shape[0]           # sent_graph 의 행 길이만큼(706)   \n",
        "        for idx in range(matrix_size):     # sent_graph 의 행 길이만큼의 인덱스(0 ~ 705) \n",
        "            A[idx, idx] = 0                  # sent_graph 의 왼쪽위 기준으로 대각선을 0으로 변경(706 x 706)\n",
        "            link_sum = np.sum(A[:, idx])     # sent_graph 의 열 마다 모두 더한다\n",
        "            if link_sum != 0 :               # sent_graph 의 열 마다 모두 더한 값이 0이 아닌 경우에\n",
        "                A[:, idx] /= link_sum\n",
        "            A[:, idx] *= -d\n",
        "            A[idx, idx] = 1\n",
        "\n",
        "        B = (1-d) * np.ones((matrix_size, 1)) \n",
        "        x = np.linalg.solve(A, B)          # 연립방정식 Ax = B\n",
        "        return {idx : r[0] for idx, r in enumerate(x)}"
      ]
    },
    {
      "cell_type": "markdown",
      "source": [
        "#6.키워드 or 문장 출력"
      ],
      "metadata": {
        "id": "-fmvr01xAQS3"
      }
    },
    {
      "cell_type": "code",
      "source": [
        "class TextRank(object):\n",
        "\n",
        "    def __init__(self, text):\n",
        "     \n",
        "        self.sentence = text\n",
        "        self.sent_tokenize = Mecab_sentence()\n",
        "        self.nouns = self.sent_tokenize.nouns(self.sentence)\n",
        "\n",
        "        self.matrix = G_matrix()\n",
        "        self.sent_graph = self.matrix.sent_matrix(self.nouns)\n",
        "        self.word_graph, self.idx2word =  self.matrix.word_matrix(self.nouns)\n",
        "\n",
        "        self.rank = Rank()\n",
        "        self.sent_rank_idx = self.rank.get_ranks(self.sent_graph)\n",
        "        self.sorted_sent_rank_idx = sorted(self.sent_rank_idx, key=lambda k: self.sent_rank_idx[k], reverse=True)\n",
        "\n",
        "        self.word_rank_idx = self.rank.get_ranks(self.word_graph)\n",
        "        self.word_sent_rank_idx = sorted(self.word_rank_idx, key=lambda k: self.word_rank_idx[k], reverse=True)\n",
        "\n",
        "    def key_sentence(self, sentence_num=5):\n",
        "        summary = []\n",
        "        index = []\n",
        "        for idx in self.sorted_sent_rank_idx[:sentence_num]:\n",
        "            index.append(idx)\n",
        "\n",
        "        index.sort()\n",
        "        for idx in index:\n",
        "            summary.append(self.sentence[idx])\n",
        "\n",
        "    \n",
        "        return [w for w in summary]\n",
        "\n",
        "    def key_words(self, word_num=10):\n",
        "        rank_idx = self.rank.get_ranks(self.word_graph)\n",
        "        sorted_rank_idx = sorted(rank_idx, key=lambda k: rank_idx[k], reverse=True)\n",
        "    \n",
        "        keywords = []\n",
        "        index=[]\n",
        "\n",
        "        for idx in sorted_rank_idx[:word_num]:\n",
        "            index.append(idx)\n",
        "        #index.sort()\n",
        "        for idx in index:\n",
        "            keywords.append(self.idx2word[idx])\n",
        "    \n",
        "        return keywords"
      ],
      "metadata": {
        "id": "TFG0Ou7J5gFS"
      },
      "execution_count": 14,
      "outputs": []
    },
    {
      "cell_type": "code",
      "source": [
        "textrank = TextRank(text)\n",
        "\n",
        "for i in textrank.key_sentence() : \n",
        "\n",
        "\n",
        "    print(f'핵심 문장 : {i}', '\\n')\n",
        "print('-' * 100, '\\n')\n",
        "print('핵심 키워드 :', textrank.key_words())"
      ],
      "metadata": {
        "id": "46uo4nKyVjMt",
        "colab": {
          "base_uri": "https://localhost:8080/"
        },
        "outputId": "c91b6ffa-d200-49e2-b089-d738dc92ba96"
      },
      "execution_count": 23,
      "outputs": [
        {
          "output_type": "stream",
          "name": "stdout",
          "text": [
            "핵심 문장 : 그리곤 첫째 돼지와 둘째 돼지는 신나게 놀았어요. \n",
            "\n",
            "핵심 문장 : 늑대가 첫째 돼지의 집으로 갔어요. \n",
            "\n",
            "핵심 문장 : 첫째 돼지와 둘째 돼지는 셋째 돼지네 집으로 달려갔어요. \n",
            "\n",
            "핵심 문장 : 이윽고 뒤따라온 늑대가 셋째 돼지의 집을 보았어요. \n",
            "\n",
            "핵심 문장 : 그 후로 첫째 돼지와 둘째 돼지도 셋째 돼지의 집 근처에다 튼튼한 벽돌집을 지었대요. \n",
            "\n",
            "---------------------------------------------------------------------------------------------------- \n",
            "\n",
            "핵심 키워드 : ['돼지', '아기', '첫째', '셋째', '형제', '벽돌', '둘째', '늑대', '걱정', '꼴찌']\n"
          ]
        }
      ]
    }
  ],
  "metadata": {
    "colab": {
      "collapsed_sections": [],
      "name": "TextRank를 이용한 동화 요약",
      "provenance": [],
      "machine_shape": "hm",
      "mount_file_id": "1P6aDL_j26ymHNiSn6ysSo9J0Ya7F6oH4",
      "authorship_tag": "ABX9TyNjsTxdd3fa35ejVx07upoK",
      "include_colab_link": true
    },
    "kernelspec": {
      "display_name": "Python 3",
      "name": "python3"
    },
    "language_info": {
      "name": "python"
    },
    "accelerator": "GPU"
  },
  "nbformat": 4,
  "nbformat_minor": 0
}