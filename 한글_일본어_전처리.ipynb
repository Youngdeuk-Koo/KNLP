{
  "nbformat": 4,
  "nbformat_minor": 0,
  "metadata": {
    "colab": {
      "name": "한글_일본어 전처리",
      "provenance": [],
      "collapsed_sections": [],
      "mount_file_id": "1i6xYHcI3hLE-TiAoUfdTBVqPAzsW0ufE",
      "authorship_tag": "ABX9TyP4DgtG1U6vTRvF7wp7sEZY",
      "include_colab_link": true
    },
    "kernelspec": {
      "name": "python3",
      "display_name": "Python 3"
    },
    "language_info": {
      "name": "python"
    }
  },
  "cells": [
    {
      "cell_type": "markdown",
      "metadata": {
        "id": "view-in-github",
        "colab_type": "text"
      },
      "source": [
        "<a href=\"https://colab.research.google.com/github/Youngdeuk-Koo/KNLP/blob/main/%ED%95%9C%EA%B8%80_%EC%9D%BC%EB%B3%B8%EC%96%B4_%EC%A0%84%EC%B2%98%EB%A6%AC.ipynb\" target=\"_parent\"><img src=\"https://colab.research.google.com/assets/colab-badge.svg\" alt=\"Open In Colab\"/></a>"
      ]
    },
    {
      "cell_type": "code",
      "source": [
        "import pandas as pd\n",
        "import numpy as np\n",
        "import matplotlib.pyplot as plt\n",
        "import re\n",
        "import urllib.request\n",
        "import time\n",
        "import tensorflow_datasets as tfds\n",
        "import sentencepiece as spm\n",
        "import tensorflow as tf\n",
        "import gensim\n",
        "import gdown\n",
        "import zipfile\n",
        "from konlpy.tag import Mecab\n",
        "mecab = Mecab()"
      ],
      "metadata": {
        "id": "lyLt1Jo98RRW"
      },
      "execution_count": 3,
      "outputs": []
    },
    {
      "cell_type": "code",
      "source": [
        "import zipfile\n",
        "\n",
        "path_train = '/content/drive/MyDrive/AI_Study/NLP/DATA/번역 Corpus/[원천]ko2ja_culture_training_csv.zip'\n",
        "path_val = '/content/drive/MyDrive/AI_Study/NLP/DATA/번역 Corpus/[원천]ko2ja_culture_validation_csv.zip'\n",
        "\n",
        "with zipfile.ZipFile(path_train, 'r') as zip_ref:\n",
        "    zip_ref.extractall()\n",
        "\n",
        "with zipfile.ZipFile(path_val, 'r') as zip_ref:\n",
        "    zip_ref.extractall()"
      ],
      "metadata": {
        "id": "NA7c_7n2EYES"
      },
      "execution_count": 4,
      "outputs": []
    },
    {
      "cell_type": "code",
      "source": [
        "import pandas as pd\n",
        "\n",
        "train_auto = pd.read_csv('/content/ko2ja_auto_1_training.csv', encoding='utf-8')\n",
        "train_edu = pd.read_csv('/content/ko2ja_edu_1_training.csv', encoding='utf-8')\n",
        "train_finance = pd.read_csv('/content/ko2ja_finance_1_training.csv', encoding='utf-8')\n",
        "train_folk = pd.read_csv('/content/ko2ja_folk_1_training.csv', encoding='utf-8')\n",
        "train_tech = pd.read_csv('/content/ko2ja_it_tech_1_training.csv', encoding='utf-8')\n",
        "train_kpop = pd.read_csv('/content/ko2ja_kpop_1_training.csv', encoding='utf-8')\n",
        "train_medical = pd.read_csv('/content/ko2ja_medical_1_training.csv', encoding='utf-8')\n",
        "train_patent = pd.read_csv('/content/ko2ja_patent_1_training.csv', encoding='utf-8')\n",
        "train_society = pd.read_csv('/content/ko2ja_society_1_training.csv', encoding='utf-8')\n",
        "\n",
        "validation_auto = pd.read_csv('/content/ko2ja_auto_2_validation.csv', encoding='utf-8')\n",
        "validation_edu = pd.read_csv('/content/ko2ja_edu_2_validation.csv', encoding='utf-8')\n",
        "validation_finance = pd.read_csv('/content/ko2ja_finance_2_validation.csv', encoding='utf-8')\n",
        "validation_folk = pd.read_csv('/content/ko2ja_folk_2_validation.csv', encoding='utf-8')\n",
        "validation_tech = pd.read_csv('/content/ko2ja_it_tech_2_validation.csv', encoding='utf-8')\n",
        "validation_kpop = pd.read_csv('/content/ko2ja_kpop_2_validation.csv', encoding='utf-8')\n",
        "validation_medical = pd.read_csv('/content/ko2ja_medical_2_validation.csv', encoding='utf-8')\n",
        "validation_patent = pd.read_csv('/content/ko2ja_patent_2_validation.csv', encoding='utf-8')\n",
        "validation_society = pd.read_csv('/content/ko2ja_society_2_validation.csv', encoding='utf-8')"
      ],
      "metadata": {
        "id": "XjutNG2WF-Nt"
      },
      "execution_count": 44,
      "outputs": []
    },
    {
      "cell_type": "code",
      "source": [
        "df = pd.concat((train_auto, train_edu, train_finance, train_folk, train_tech, train_kpop, train_medical, train_patent, \n",
        "                train_society,validation_auto, validation_edu, validation_finance, validation_folk, validation_tech, \n",
        "                validation_kpop, validation_medical, validation_patent, validation_society), axis=0)\n",
        "\n",
        "df.head()"
      ],
      "metadata": {
        "id": "sQ3g6nKGIiSE",
        "colab": {
          "base_uri": "https://localhost:8080/",
          "height": 441
        },
        "outputId": "d992c7d3-3842-4051-eaca-c98cfa8e64fc"
      },
      "execution_count": 46,
      "outputs": [
        {
          "output_type": "execute_result",
          "data": {
            "text/html": [
              "\n",
              "  <div id=\"df-5b61b66b-b411-4215-ad2c-f4c7cd8334bf\">\n",
              "    <div class=\"colab-df-container\">\n",
              "      <div>\n",
              "<style scoped>\n",
              "    .dataframe tbody tr th:only-of-type {\n",
              "        vertical-align: middle;\n",
              "    }\n",
              "\n",
              "    .dataframe tbody tr th {\n",
              "        vertical-align: top;\n",
              "    }\n",
              "\n",
              "    .dataframe thead th {\n",
              "        text-align: right;\n",
              "    }\n",
              "</style>\n",
              "<table border=\"1\" class=\"dataframe\">\n",
              "  <thead>\n",
              "    <tr style=\"text-align: right;\">\n",
              "      <th></th>\n",
              "      <th>관리번호</th>\n",
              "      <th>분야</th>\n",
              "      <th>한국어</th>\n",
              "      <th>일본어</th>\n",
              "      <th>한국어_어절수</th>\n",
              "      <th>일본어_글자수</th>\n",
              "      <th>길이_분류</th>\n",
              "      <th>출처</th>\n",
              "      <th>수행기관</th>\n",
              "    </tr>\n",
              "  </thead>\n",
              "  <tbody>\n",
              "    <tr>\n",
              "      <th>0</th>\n",
              "      <td>KO-JA-2020-AUTO-000001</td>\n",
              "      <td>자동차/부품/교통/소재</td>\n",
              "      <td>지원 금액은 차종과 연식에 따라 보험개발원이 산정한 차량기준가액을 적용한다.</td>\n",
              "      <td>支援金額は車種と年式によって保険開発院が算定した車両基準価額を適用する。</td>\n",
              "      <td>9</td>\n",
              "      <td>35</td>\n",
              "      <td>1</td>\n",
              "      <td>http://www.asiae.co.kr/article/202005201702158...</td>\n",
              "      <td>에버트란</td>\n",
              "    </tr>\n",
              "    <tr>\n",
              "      <th>1</th>\n",
              "      <td>KO-JA-2020-AUTO-000002</td>\n",
              "      <td>자동차/부품/교통/소재</td>\n",
              "      <td>이 대표는 기업간거래(B2B)용 연구개발(R&amp;D) 칩으로 수익을 내면 모바일 기기와...</td>\n",
              "      <td>イ代表は、企業間取引(B2B)用の研究開発(R&amp;D)チップで収益を出せば、モバイル機器と自動...</td>\n",
              "      <td>18</td>\n",
              "      <td>62</td>\n",
              "      <td>3</td>\n",
              "      <td>http://www.etnews.com/20200408000179</td>\n",
              "      <td>에버트란</td>\n",
              "    </tr>\n",
              "    <tr>\n",
              "      <th>2</th>\n",
              "      <td>KO-JA-2020-AUTO-000003</td>\n",
              "      <td>자동차/부품/교통/소재</td>\n",
              "      <td>쌍용자동차가 코란도 스포츠의 출시를 기념해 고객들이 코란도 스포츠의 활용성을 체험할...</td>\n",
              "      <td>双龍自動車がコランドスポーツの発売を記念し、顧客がコランドスポーツの活用性を体験できる多彩な...</td>\n",
              "      <td>17</td>\n",
              "      <td>60</td>\n",
              "      <td>3</td>\n",
              "      <td>NaN</td>\n",
              "      <td>에버트란</td>\n",
              "    </tr>\n",
              "    <tr>\n",
              "      <th>3</th>\n",
              "      <td>KO-JA-2020-AUTO-000004</td>\n",
              "      <td>자동차/부품/교통/소재</td>\n",
              "      <td>르노삼성은 현금할인에 각종 용품 장착 지원을 통해 반등에 나선다.</td>\n",
              "      <td>ルノーサムスンは現金割引に各種用品の装着支援を通じて持ち直しを狙う。</td>\n",
              "      <td>9</td>\n",
              "      <td>32</td>\n",
              "      <td>1</td>\n",
              "      <td>NaN</td>\n",
              "      <td>에버트란</td>\n",
              "    </tr>\n",
              "    <tr>\n",
              "      <th>4</th>\n",
              "      <td>KO-JA-2020-AUTO-000005</td>\n",
              "      <td>자동차/부품/교통/소재</td>\n",
              "      <td>2개의 냉각수 시스템과 6기통의 복스터 엔진은 테크아트 파워 키트를 통해 개선됐다.</td>\n",
              "      <td>2つの冷却水システムと6気筒のボクスターエンジンは、テックアートパワーキットにより改善された。</td>\n",
              "      <td>11</td>\n",
              "      <td>40</td>\n",
              "      <td>2</td>\n",
              "      <td>NaN</td>\n",
              "      <td>에버트란</td>\n",
              "    </tr>\n",
              "  </tbody>\n",
              "</table>\n",
              "</div>\n",
              "      <button class=\"colab-df-convert\" onclick=\"convertToInteractive('df-5b61b66b-b411-4215-ad2c-f4c7cd8334bf')\"\n",
              "              title=\"Convert this dataframe to an interactive table.\"\n",
              "              style=\"display:none;\">\n",
              "        \n",
              "  <svg xmlns=\"http://www.w3.org/2000/svg\" height=\"24px\"viewBox=\"0 0 24 24\"\n",
              "       width=\"24px\">\n",
              "    <path d=\"M0 0h24v24H0V0z\" fill=\"none\"/>\n",
              "    <path d=\"M18.56 5.44l.94 2.06.94-2.06 2.06-.94-2.06-.94-.94-2.06-.94 2.06-2.06.94zm-11 1L8.5 8.5l.94-2.06 2.06-.94-2.06-.94L8.5 2.5l-.94 2.06-2.06.94zm10 10l.94 2.06.94-2.06 2.06-.94-2.06-.94-.94-2.06-.94 2.06-2.06.94z\"/><path d=\"M17.41 7.96l-1.37-1.37c-.4-.4-.92-.59-1.43-.59-.52 0-1.04.2-1.43.59L10.3 9.45l-7.72 7.72c-.78.78-.78 2.05 0 2.83L4 21.41c.39.39.9.59 1.41.59.51 0 1.02-.2 1.41-.59l7.78-7.78 2.81-2.81c.8-.78.8-2.07 0-2.86zM5.41 20L4 18.59l7.72-7.72 1.47 1.35L5.41 20z\"/>\n",
              "  </svg>\n",
              "      </button>\n",
              "      \n",
              "  <style>\n",
              "    .colab-df-container {\n",
              "      display:flex;\n",
              "      flex-wrap:wrap;\n",
              "      gap: 12px;\n",
              "    }\n",
              "\n",
              "    .colab-df-convert {\n",
              "      background-color: #E8F0FE;\n",
              "      border: none;\n",
              "      border-radius: 50%;\n",
              "      cursor: pointer;\n",
              "      display: none;\n",
              "      fill: #1967D2;\n",
              "      height: 32px;\n",
              "      padding: 0 0 0 0;\n",
              "      width: 32px;\n",
              "    }\n",
              "\n",
              "    .colab-df-convert:hover {\n",
              "      background-color: #E2EBFA;\n",
              "      box-shadow: 0px 1px 2px rgba(60, 64, 67, 0.3), 0px 1px 3px 1px rgba(60, 64, 67, 0.15);\n",
              "      fill: #174EA6;\n",
              "    }\n",
              "\n",
              "    [theme=dark] .colab-df-convert {\n",
              "      background-color: #3B4455;\n",
              "      fill: #D2E3FC;\n",
              "    }\n",
              "\n",
              "    [theme=dark] .colab-df-convert:hover {\n",
              "      background-color: #434B5C;\n",
              "      box-shadow: 0px 1px 3px 1px rgba(0, 0, 0, 0.15);\n",
              "      filter: drop-shadow(0px 1px 2px rgba(0, 0, 0, 0.3));\n",
              "      fill: #FFFFFF;\n",
              "    }\n",
              "  </style>\n",
              "\n",
              "      <script>\n",
              "        const buttonEl =\n",
              "          document.querySelector('#df-5b61b66b-b411-4215-ad2c-f4c7cd8334bf button.colab-df-convert');\n",
              "        buttonEl.style.display =\n",
              "          google.colab.kernel.accessAllowed ? 'block' : 'none';\n",
              "\n",
              "        async function convertToInteractive(key) {\n",
              "          const element = document.querySelector('#df-5b61b66b-b411-4215-ad2c-f4c7cd8334bf');\n",
              "          const dataTable =\n",
              "            await google.colab.kernel.invokeFunction('convertToInteractive',\n",
              "                                                     [key], {});\n",
              "          if (!dataTable) return;\n",
              "\n",
              "          const docLinkHtml = 'Like what you see? Visit the ' +\n",
              "            '<a target=\"_blank\" href=https://colab.research.google.com/notebooks/data_table.ipynb>data table notebook</a>'\n",
              "            + ' to learn more about interactive tables.';\n",
              "          element.innerHTML = '';\n",
              "          dataTable['output_type'] = 'display_data';\n",
              "          await google.colab.output.renderOutput(dataTable, element);\n",
              "          const docLink = document.createElement('div');\n",
              "          docLink.innerHTML = docLinkHtml;\n",
              "          element.appendChild(docLink);\n",
              "        }\n",
              "      </script>\n",
              "    </div>\n",
              "  </div>\n",
              "  "
            ],
            "text/plain": [
              "                     관리번호  ...  수행기관\n",
              "0  KO-JA-2020-AUTO-000001  ...  에버트란\n",
              "1  KO-JA-2020-AUTO-000002  ...  에버트란\n",
              "2  KO-JA-2020-AUTO-000003  ...  에버트란\n",
              "3  KO-JA-2020-AUTO-000004  ...  에버트란\n",
              "4  KO-JA-2020-AUTO-000005  ...  에버트란\n",
              "\n",
              "[5 rows x 9 columns]"
            ]
          },
          "metadata": {},
          "execution_count": 46
        }
      ]
    },
    {
      "cell_type": "code",
      "source": [
        "def Clean_data_generation(train, sentence1=None, sentence2=None, null_check=False, duplicates_check=False, sentence_length_count_check=False, sentence_trunk=False):\n",
        "\n",
        "    print('Data Size Check :', len(train), '\\n')\n",
        "\n",
        "    ex_len = len(train)\n",
        "\n",
        "    if null_check == True :\n",
        "\n",
        "        if (False in train[sentence1].isnull()) or (False in train[sentence2].isnull())== False:\n",
        "            print('>> Null값이 존재하지 않습니다', '\\n')\n",
        "\n",
        "        else:\n",
        "            train.dropna(how='any')\n",
        "            print('>> Null값이 제거 됐습니다', '\\n')\n",
        "            print('>> Data Size check :', len(train), '\\n')\n",
        "\n",
        "    else :\n",
        "        print('>> Null값을 제거하지 않습니다', '\\n')\n",
        "\n",
        "    if duplicates_check == True :\n",
        "\n",
        "        if (True in train.duplicated([sentence1, sentence2], keep='first')) == True:\n",
        "            print('>> 중복값이 존재하지 않습니다', '\\n')\n",
        "\n",
        "        else:\n",
        "            train.drop_duplicates(subset=[sentence1, sentence2], keep='first', inplace=True, ignore_index=False)\n",
        "            print('>> 중복값이 제거 됐습니다', '\\n')\n",
        "            print('>> 제거된 중복값 갯수 :', (ex_len - len(train)), '\\n')\n",
        "            print('>> Data Size check :', len(train), '\\n')\n",
        "\n",
        "    else :\n",
        "        print('>> 중복값을 제거하지 않습니다', '\\n')\n",
        "\n",
        "\n",
        "    if sentence_length_count_check == True:\n",
        "        print('>> 그래프를 출력합니다', '\\n')\n",
        "\n",
        "        kor = train[sentence1]\n",
        "        jap = train[sentence2]\n",
        "\n",
        "        k_max_len = max([len(w) for w in kor])\n",
        "        k_min_len = min([len(w) for w in kor])\n",
        "        j_max_len = max([len(w) for w in jap])\n",
        "        j_min_len = min([len(w) for w in jap])\n",
        "\n",
        "\n",
        "        kor_length = np.zeros((k_max_len), dtype=np.uint)\n",
        "        jap_length = np.zeros((j_max_len), dtype=np.uint)\n",
        "\n",
        "        for k_sen, e_sen in zip(kor, jap): #중복이 제거된 코퍼스\n",
        "            kor_length[len(k_sen)-1] += 1\n",
        "            jap_length[len(e_sen)-1] += 1\n",
        "\n",
        "\n",
        "        plt.figure(figsize=[18, 3])\n",
        "        plt.subplot(1, 2, 1)\n",
        "        plt.title(\"Korea Sentence Length Distribution\")\n",
        "        plt.bar(range(k_max_len), kor_length, width=1.0)\n",
        "        plt.grid()\n",
        "\n",
        "        plt.figure(figsize=[18, 3])\n",
        "        plt.subplot(1, 2, 2)\n",
        "        plt.bar(range(j_max_len), jap_length, width=1.0)\n",
        "        plt.title(\"Japan Sentence Length Distribution\")\n",
        "        plt.grid()\n",
        "        plt.show()\n",
        "        \n",
        "        print()\n",
        "        print('>> 한국어 문장 최장 길이 :', k_max_len, '\\n')\n",
        "        print('>> 한국어 문장 최단 길이 :', k_min_len, '\\n')\n",
        "        print('>> 일본어 문장 최장 길이 :', j_max_len, '\\n')\n",
        "        print('>> 일본어 문장 최장 길이 :', j_min_len, '\\n') \n",
        "\n",
        "\n",
        "    else:\n",
        "        print('>> 그래프를 출력하지 않습니다', '\\n')     \n",
        "\n",
        "    if sentence_trunk == True:\n",
        "\n",
        "        print('>> 문장을 자르고 있습니다', '\\n')\n",
        "\n",
        "        train['k_sen_len'] = train[sentence1].str.len()\n",
        "        train['j_sen_len'] = train[sentence2].str.len()\n",
        "\n",
        "        train = train[(train['k_sen_len'] <= 130) & (train['j_sen_len'] <= 130)]\n",
        "        train = train[(train['k_sen_len'] >= 30) & (train['j_sen_len'] >= 30)]\n",
        "\n",
        "        kor = train[sentence1]\n",
        "        jap = train[sentence2]\n",
        "\n",
        "        k_max_len = max([len(w) for w in kor])\n",
        "        k_min_len = min([len(w) for w in kor])\n",
        "        j_max_len = max([len(w) for w in jap])\n",
        "        j_min_len = min([len(w) for w in jap])\n",
        "\n",
        "\n",
        "        kor_length = np.zeros((k_max_len), dtype=np.uint)\n",
        "        jap_length = np.zeros((j_max_len), dtype=np.uint)\n",
        "\n",
        "        for k_sen, e_sen in zip(kor, jap): #중복이 제거된 코퍼스\n",
        "            kor_length[len(k_sen)-1] += 1\n",
        "            jap_length[len(e_sen)-1] += 1\n",
        "\n",
        "        print('>> 그래프를 출력합니다', '\\n')\n",
        "\n",
        "        plt.figure(figsize=[18, 3])\n",
        "        plt.subplot(1, 2, 1)\n",
        "        plt.title(\"Korea Sentence Length Distribution\")\n",
        "        plt.bar(range(k_max_len), kor_length, width=1.0)\n",
        "        plt.grid()\n",
        "\n",
        "        plt.figure(figsize=[18, 3])\n",
        "        plt.subplot(1, 2, 2)\n",
        "        plt.bar(range(j_max_len), jap_length, width=1.0)\n",
        "        plt.title(\"Japan Sentence Length Distribution\")\n",
        "        plt.grid()\n",
        "        plt.show()\n",
        "        \n",
        "        print()\n",
        "        print('>> 전처리된 한국어 문장 최장 길이 :', k_max_len, '\\n')\n",
        "        print('>> 전처리된 한국어 문장 최단 길이 :', k_min_len, '\\n')\n",
        "        print('>> 전처리된 일본어 문장 최장 길이 :', j_max_len, '\\n')\n",
        "        print('>> 전처리된 일본어 문장 최장 길이 :', j_min_len, '\\n') \n",
        "\n",
        "    else:\n",
        "        print('>> 문장을 자르지 않습니다', '\\n') \n",
        "\n",
        "    return train\n",
        "\n",
        "df = Clean_data_generation(df, \n",
        "                           sentence1='한국어',\n",
        "                           sentence2='일본어',\n",
        "                           null_check=True, \n",
        "                           duplicates_check=True, \n",
        "                           sentence_length_count_check=True,\n",
        "                           sentence_trunk=True)"
      ],
      "metadata": {
        "colab": {
          "base_uri": "https://localhost:8080/",
          "height": 1000
        },
        "id": "YrisuKG4vQ5Y",
        "outputId": "27940abe-27ce-461c-d25c-2bbc50e5f14e"
      },
      "execution_count": 47,
      "outputs": [
        {
          "output_type": "stream",
          "name": "stdout",
          "text": [
            "Data Size Check : 1350000 \n",
            "\n",
            ">> Null값이 존재하지 않습니다 \n",
            "\n",
            ">> 중복값이 존재하지 않습니다 \n",
            "\n",
            ">> 그래프를 출력합니다 \n",
            "\n"
          ]
        },
        {
          "output_type": "display_data",
          "data": {
            "image/png": "[encoded data removed]",
            "text/plain": [
              "<Figure size 1296x216 with 1 Axes>"
            ]
          },
          "metadata": {
            "needs_background": "light"
          }
        },
        {
          "output_type": "display_data",
          "data": {
            "image/png": "[encoded data removed]",
            "text/plain": [
              "<Figure size 1296x216 with 1 Axes>"
            ]
          },
          "metadata": {
            "needs_background": "light"
          }
        },
        {
          "output_type": "stream",
          "name": "stdout",
          "text": [
            "\n",
            ">> 한국어 문장 최장 길이 : 243 \n",
            "\n",
            ">> 한국어 문장 최단 길이 : 11 \n",
            "\n",
            ">> 일본어 문장 최장 길이 : 250 \n",
            "\n",
            ">> 일본어 문장 최장 길이 : 9 \n",
            "\n",
            ">> 문장을 자르고 있습니다 \n",
            "\n",
            ">> 그래프를 출력합니다 \n",
            "\n"
          ]
        },
        {
          "output_type": "display_data",
          "data": {
            "image/png": "[encoded data removed]",
            "text/plain": [
              "<Figure size 1296x216 with 1 Axes>"
            ]
          },
          "metadata": {
            "needs_background": "light"
          }
        },
        {
          "output_type": "display_data",
          "data": {
            "image/png": "[encoded data removed]",
            "text/plain": [
              "<Figure size 1296x216 with 1 Axes>"
            ]
          },
          "metadata": {
            "needs_background": "light"
          }
        },
        {
          "output_type": "stream",
          "name": "stdout",
          "text": [
            "\n",
            ">> 전처리된 한국어 문장 최장 길이 : 130 \n",
            "\n",
            ">> 전처리된 한국어 문장 최단 길이 : 30 \n",
            "\n",
            ">> 전처리된 일본어 문장 최장 길이 : 130 \n",
            "\n",
            ">> 전처리된 일본어 문장 최장 길이 : 30 \n",
            "\n"
          ]
        }
      ]
    },
    {
      "cell_type": "markdown",
      "source": [
        "#데이터 불러오기"
      ],
      "metadata": {
        "id": "vQOceFkRAlkf"
      }
    },
    {
      "cell_type": "code",
      "source": [
        "def build_corpus(src, lan='kor'):\n",
        "    import re\n",
        "\n",
        "    try:    # 소문자가 있을시\n",
        "        src = src.lower()\n",
        "\n",
        "    except: # 소문자가 없을시\n",
        "        pass\n",
        "\n",
        "    if lan == 'kor':\n",
        "        src = str(src).replace('・', ' ')\n",
        "        src = src.replace('·', ' ')\n",
        "        src = src.replace('-', ' ')\n",
        "        src = re.sub(r'\\([^)]*\\)', '', src)\n",
        "        src = re.sub(r'\\[[^)]*\\]', '', src)\n",
        "        src = re.sub('[-=+#/\\:;^$@*\\’\"“”※&ㆍ_『』\\\\‘|\\(\\)\\[\\]\\<\\>`\\'\"…》、㎝]','', src)\n",
        "        src = re.sub(r\"([?!.,%〜∼])\", r\" \\1 \", src)\n",
        "        src = re.sub('[0-9] \\. [0-9]', '6.7', src)\n",
        "        src = re.sub('[0-9] , [0-9]', '6,7', src)\n",
        "        # src = re.sub(' \\. ', '', src)\n",
        "        return src\n",
        "\n",
        "    if lan == 'jap':\n",
        "        src = str(src).replace('、', ', ')\n",
        "        # src = src.replace('、', ', ')\n",
        "        # src = src.replace('。', '.')\n",
        "        src = src.replace('・', ', ')\n",
        "        src = re.sub(r'\\([^)]*\\)', '', src)\n",
        "        src = re.sub('[-=+,#/\\:;^$@*\\’\"“”※~&ㆍ_『』\\\\‘|\\(\\)\\[\\]\\<\\>〈〉`\\'\"…》㎝「」]','', src)\n",
        "        src = re.sub(r\"([?!〜.%。、,])\", r\" \\1 \", src)\n",
        "        src = re.sub('[0-9] \\. [0-9]', '6.7', src)\n",
        "        src = re.sub('[0-9] , [0-9]', '6,7', src)\n",
        "        src = re.sub(' \\. ', '', src)   \n",
        "        return src"
      ],
      "metadata": {
        "id": "hNfPH0YjOLip"
      },
      "execution_count": 48,
      "outputs": []
    },
    {
      "cell_type": "code",
      "source": [
        "clean_kor = [build_corpus(w, 'kor') for w in df['한국어']]\n",
        "clean_jap = [build_corpus(w, 'jap') for w in df['일본어']]"
      ],
      "metadata": {
        "id": "nXuTAIVsOhq7"
      },
      "execution_count": 49,
      "outputs": []
    },
    {
      "cell_type": "code",
      "source": [
        "pair = [w for w in zip(clean_kor, clean_jap)]\n",
        "pair"
      ],
      "metadata": {
        "id": "H55RAtDW-H9Z"
      },
      "execution_count": null,
      "outputs": []
    },
    {
      "cell_type": "markdown",
      "source": [
        "#전처리 언어 저장"
      ],
      "metadata": {
        "id": "3Pcf4VsQ2HdH"
      }
    },
    {
      "cell_type": "code",
      "source": [
        "g_drive_path = '/content/drive/MyDrive/AI_Study/NLP/DATA/한국_일본 text/'\n",
        "\n",
        "with open(g_drive_path + 'clean_ko_corpus.txt', 'w', encoding='utf-8') as f:\n",
        "    f.write('\\n'.join(map(str, clean_kor)))\n",
        "\n",
        "with open(g_drive_path + 'clean_ja_corpus.txt', 'w', encoding='utf-8') as f:\n",
        "    f.write('\\n'.join(map(str, clean_jap)))"
      ],
      "metadata": {
        "id": "_okb2WgASj4S"
      },
      "execution_count": 53,
      "outputs": []
    }
  ]
}