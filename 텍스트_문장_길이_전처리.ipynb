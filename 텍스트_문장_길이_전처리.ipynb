{
  "nbformat": 4,
  "nbformat_minor": 0,
  "metadata": {
    "colab": {
      "name": "텍스트 문장 길이 전처리",
      "provenance": [],
      "collapsed_sections": [],
      "mount_file_id": "1Phxjt-aLTz2jVrAHZQ3q8pDJwVDECNHw",
      "authorship_tag": "ABX9TyPsQ/EzEzDO6ygpZqFW8bTA",
      "include_colab_link": true
    },
    "kernelspec": {
      "name": "python3",
      "display_name": "Python 3"
    },
    "language_info": {
      "name": "python"
    }
  },
  "cells": [
    {
      "cell_type": "markdown",
      "metadata": {
        "id": "view-in-github",
        "colab_type": "text"
      },
      "source": [
        "<a href=\"https://colab.research.google.com/github/Youngdeuk-Koo/KNLP/blob/main/%ED%85%8D%EC%8A%A4%ED%8A%B8_%EB%AC%B8%EC%9E%A5_%EA%B8%B8%EC%9D%B4_%EC%A0%84%EC%B2%98%EB%A6%AC.ipynb\" target=\"_parent\"><img src=\"https://colab.research.google.com/assets/colab-badge.svg\" alt=\"Open In Colab\"/></a>"
      ]
    },
    {
      "cell_type": "code",
      "execution_count": null,
      "metadata": {
        "id": "wHqNBwUpkDld"
      },
      "outputs": [],
      "source": [
        "import numpy as np\n",
        "import matplotlib.pyplot as plt"
      ]
    },
    {
      "cell_type": "markdown",
      "source": [
        "#1. 파일로드"
      ],
      "metadata": {
        "id": "dPMSvvWOlG8Z"
      }
    },
    {
      "cell_type": "code",
      "source": [
        "path = '/content/drive/MyDrive/AI_Study/NLP/DATA/소설 및 동화/The Little Prince.txt'\n",
        "\n",
        "with open(path, 'r', encoding='utf-8') as f :\n",
        "  raw = f.read().splitlines()"
      ],
      "metadata": {
        "id": "d8Tlx1-kkZVV"
      },
      "execution_count": null,
      "outputs": []
    },
    {
      "cell_type": "markdown",
      "source": [
        "#2. 최장 문장 및 최단 문장 파악\n",
        "\n",
        "\n",
        "1. 전체 DATE SIZE 파악\n",
        "2. 최장 길이 문장 파악\n",
        "3. 최단 길이 문장 파악\n",
        "4. 문장 평균 길이 파악\n",
        "\n"
      ],
      "metadata": {
        "id": "OSIVU8PglOT_"
      }
    },
    {
      "cell_type": "code",
      "source": [
        "min_len = 9999\n",
        "max_len = 0\n",
        "sum_len = 0\n",
        "\n",
        "for sen in raw:\n",
        "  length = len(sen)\n",
        "  if min_len >length : min_len = length\n",
        "  elif max_len < length : max_len = length\n",
        "  sum_len += length\n",
        "\n",
        "print('Data Size :', len(raw))\n",
        "print('최장 길이 문장', max_len)\n",
        "print('최단 길이 문장', min_len)\n",
        "print('문장 평균 길이', sum_len // len(raw))"
      ],
      "metadata": {
        "colab": {
          "base_uri": "https://localhost:8080/"
        },
        "id": "MjctzScskxVm",
        "outputId": "6cec99dc-b93d-4eb0-8400-a0621a7c471a"
      },
      "execution_count": null,
      "outputs": [
        {
          "output_type": "stream",
          "name": "stdout",
          "text": [
            "Data Size : 1004\n",
            "최장 길이 문장 475\n",
            "최단 길이 문장 1\n",
            "문장 평균 길이 44\n"
          ]
        }
      ]
    },
    {
      "cell_type": "markdown",
      "source": [
        "#3. 문장 길이 배열 그래프로 확인"
      ],
      "metadata": {
        "id": "ia2x8OTDlY2n"
      }
    },
    {
      "cell_type": "code",
      "source": [
        "sen_len = np.zeros(max_len, dtype=np.uint)\n",
        "\n",
        "for sen in raw :\n",
        "  sen_len[len(sen)-1] += 1\n",
        "\n",
        "plt.bar(range(max_len), sen_len, width=1.0)\n",
        "plt.show()"
      ],
      "metadata": {
        "colab": {
          "base_uri": "https://localhost:8080/",
          "height": 265
        },
        "id": "1b87xLpEkxzj",
        "outputId": "44f9d146-3e2f-4a1d-ce46-6689282d4bca"
      },
      "execution_count": null,
      "outputs": [
        {
          "output_type": "display_data",
          "data": {
            "image/png": "[encoded data removed]",
            "text/plain": [
              "<Figure size 432x288 with 1 Axes>"
            ]
          },
          "metadata": {
            "needs_background": "light"
          }
        }
      ]
    },
    {
      "cell_type": "markdown",
      "source": [
        "#4. 중복 텍스트 제거"
      ],
      "metadata": {
        "id": "rI3HH5-Am3Fe"
      }
    },
    {
      "cell_type": "code",
      "source": [
        "cleaned = list(set(raw))\n",
        "\n",
        "min_len = 9999\n",
        "max_len = 0\n",
        "sum_len = 0\n",
        "\n",
        "for sen in cleaned :\n",
        "  length = len(sen)\n",
        "  if min_len > length : min_len = length\n",
        "  elif max_len < length : max_len = length\n",
        "  sum_len += length\n",
        "\n",
        "print('Data Size', len(cleaned))\n",
        "print('최장 길이 문장', max_len)\n",
        "print('최단 길이 문장', min_len)\n",
        "print('문장 평균 길이', sum_len // len(cleaned))"
      ],
      "metadata": {
        "colab": {
          "base_uri": "https://localhost:8080/"
        },
        "id": "uLXFHzask-vM",
        "outputId": "d70f6ac2-c0ed-456d-90c6-2bef8a51e618"
      },
      "execution_count": null,
      "outputs": [
        {
          "output_type": "stream",
          "name": "stdout",
          "text": [
            "Data Size 860\n",
            "최장 길이 문장 475\n",
            "최단 길이 문장 1\n",
            "문장 평균 길이 50\n"
          ]
        }
      ]
    },
    {
      "cell_type": "markdown",
      "source": [
        "#5. 중복 제거된 문장 길이 배열 그래프로 확인"
      ],
      "metadata": {
        "id": "VGe8n3bdm8Gl"
      }
    },
    {
      "cell_type": "code",
      "source": [
        "sen_corpus = np.zeros(max_len, dtype=np.uint)\n",
        "\n",
        "for sen in cleaned :\n",
        "  sen_corpus[len(sen)-1] += 1\n",
        "\n",
        "plt.bar(range(max_len), sen_corpus, width=1.0)\n",
        "plt.show()"
      ],
      "metadata": {
        "colab": {
          "base_uri": "https://localhost:8080/",
          "height": 265
        },
        "id": "YXK5FrrmlC6v",
        "outputId": "7f256981-b0a9-4e33-8cc7-c8158aeea46e"
      },
      "execution_count": null,
      "outputs": [
        {
          "output_type": "display_data",
          "data": {
            "image/png": "[encoded data removed]",
            "text/plain": [
              "<Figure size 432x288 with 1 Axes>"
            ]
          },
          "metadata": {
            "needs_background": "light"
          }
        }
      ]
    },
    {
      "cell_type": "markdown",
      "source": [
        "#6. 특정 문장 길이만 추출\n",
        "\n",
        "\n",
        "1. 문장 길이가 120보다 적고\n",
        "2. 문장 길이가 10보다 큰\n",
        "3. 문장들만 추출\n",
        "4. 그래프 확인\n",
        "\n"
      ],
      "metadata": {
        "id": "YhU3KWxlnHg8"
      }
    },
    {
      "cell_type": "code",
      "source": [
        "max_len = 120\n",
        "min_len = 10\n",
        "\n",
        "filter_corpus = [s for s in cleaned if (max_len > len(s)) & (min_len <= len(s))]\n",
        "\n",
        "filter_length = np.zeros(max_len, dtype=np.uint)\n",
        "for sen in filter_corpus :\n",
        "  filter_length[len(sen)-1] += 1\n",
        "\n",
        "plt.bar(range(max_len), filter_length, width=1.0)\n",
        "plt.show()"
      ],
      "metadata": {
        "colab": {
          "base_uri": "https://localhost:8080/",
          "height": 265
        },
        "id": "JkYi3f8ynMfL",
        "outputId": "ef4dff07-b5ce-4cc7-8fb8-2a9df8e66323"
      },
      "execution_count": null,
      "outputs": [
        {
          "output_type": "display_data",
          "data": {
            "image/png": "[encoded data removed]",
            "text/plain": [
              "<Figure size 432x288 with 1 Axes>"
            ]
          },
          "metadata": {
            "needs_background": "light"
          }
        }
      ]
    },
    {
      "cell_type": "markdown",
      "source": [
        "#7. 추출된 문장 저장"
      ],
      "metadata": {
        "id": "6wHbaLO_oJbi"
      }
    },
    {
      "cell_type": "code",
      "source": [
        "with open('/content/drive/MyDrive/AI_Study/NLP/DATA/전처리 완료 DATA/'+str(prince)+'_'+str(min_len)+'_'+str(max_len)+'.txt', 'w', encoding='utf-8') as f :\n",
        "   f.write('\\n'.join(map(str, filter_corpus)))"
      ],
      "metadata": {
        "id": "SrvUOamunyEU"
      },
      "execution_count": null,
      "outputs": []
    }
  ]
}